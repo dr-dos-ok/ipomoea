{
 "cells": [
  {
   "cell_type": "markdown",
   "metadata": {},
   "source": [
    "# ipomoea"
   ]
  },
  {
   "cell_type": "code",
   "execution_count": 23,
   "metadata": {},
   "outputs": [],
   "source": [
    "if (!require(\"mco\")) install.packages(\"mco\", repos = \"http://cran.us.r-project.org\")"
   ]
  },
  {
   "cell_type": "code",
   "execution_count": 24,
   "metadata": {},
   "outputs": [],
   "source": [
    "ipomoea_keyword <- 'dickey-fuller'\n",
    "\n",
    "rsearch <- readLines(paste('http://search.r-project.org/cgi-bin/namazu.cgi?query=', ipomoea_keyword,'&max=20&result=normal&sort=score&idxname=functions&idxname=vignettes&idxname=views'))\n",
    "\n",
    "ipomoea_file <- paste(\".ipomoea.\",ipomoea_keyword,\".html\")\n",
    "#sink(paste(\".ipomoea.\",ipomoea_p_char,\".html\"))\n",
    "#rsearch\n",
    "#sink()\n",
    "\n",
    "code <- paste(as.character(rsearch), collapse = \"\\n\")\n",
    "write.table(code, \n",
    "            file=ipomoea_file, \n",
    "            quote = FALSE,\n",
    "            col.names = FALSE,\n",
    "            row.names = FALSE)"
   ]
  },
  {
   "cell_type": "code",
   "execution_count": 25,
   "metadata": {},
   "outputs": [
    {
     "data": {
      "text/html": [
       "48"
      ],
      "text/latex": [
       "48"
      ],
      "text/markdown": [
       "48"
      ],
      "text/plain": [
       "[1] 48"
      ]
     },
     "metadata": {},
     "output_type": "display_data"
    }
   ],
   "source": [
    "getexpr = function(s,g)substring(s,g,g+attr(g,'match.length')-1)\n",
    "\n",
    "mypattern = 'Total <!-- HIT -->([^<]*)<!-- HIT -->'\n",
    "datalines = grep(mypattern,code[84:length(code)],value=TRUE)\n",
    "gg = gregexpr(mypattern,datalines)\n",
    "matches = mapply(getexpr,datalines,gg)\n",
    "result = gsub(mypattern,'\\\\1',matches)\n",
    "names(result) = NULL\n",
    "total = as.numeric(result)\n",
    "total"
   ]
  },
  {
   "cell_type": "code",
   "execution_count": 26,
   "metadata": {},
   "outputs": [
    {
     "data": {
      "text/html": [
       "'\\n&lt;dt&gt;1. &lt;strong&gt;&lt;a href=\"http://finzi.psych.upenn.edu/R/library/exuber/html/radf.html\"&gt;R: Recursive Augmented &lt;strong class=\"keyword\"&gt;Dickey-Fuller&lt;/strong&gt; test&lt;/a&gt;&lt;/strong&gt; (score: 30)&lt;/dt&gt;\\n&lt;dd&gt;&lt;strong&gt;Author&lt;/strong&gt;: &lt;em&gt;unknown&lt;/em&gt;&lt;/dd&gt;\\n&lt;dd&gt;&lt;strong&gt;Date&lt;/strong&gt;: &lt;em&gt;Fri, 19 Oct 2018 11:14:14 -0500&lt;/em&gt;&lt;/dd&gt;\\n&lt;dd&gt;Recursive Augmented &lt;strong class=\"keyword\"&gt;Dickey-Fuller&lt;/strong&gt; test Description Usage Arguments Value References Examples page for radf {exuber} radf {exuber} R Documentation radf returns the t-statistics from a recursive Augme&lt;/dd&gt;\\n&lt;dd&gt;&lt;a href=\"http://finzi.psych.upenn.edu/R/library/exuber/html/radf.html\"&gt;http://finzi.psych.upenn.edu/R/library/exuber/html/radf.html&lt;/a&gt; (2,677 bytes)&lt;br&gt;&lt;br&gt;&lt;/dd&gt;\\n\\n&lt;dt&gt;2. &lt;strong&gt;&lt;a href=\"http://finzi.psych.upenn.edu/R/library/aTSA/html/adf.test.html\"&gt;R: Augmented &lt;strong class=\"keyword\"&gt;Dickey-Fuller&lt;/strong&gt; Test&lt;/a&gt;&lt;/strong&gt; (score: 30)&lt;/dt&gt;\\n&lt;dd&gt;&lt;strong&gt;Author&lt;/strong&gt;: &lt;em&gt;unknown&lt;/em&gt;&lt;/dd&gt;\\n&lt;dd&gt;&lt;strong&gt;Date&lt;/strong&gt;: &lt;em&gt;Tue, 20 Dec 2016 13:27:33 -0500&lt;/em&gt;&lt;/dd&gt;\\n&lt;dd&gt;Augmented &lt;strong class=\"keyword\"&gt;Dickey-Fuller&lt;/strong&gt; Test Description Usage Arguments Details Value Note Author&amp;#40;s&amp;#41; References See Also Examples page for adf.test {aTSA} adf.test {aTSA} R Documentation Performs the Augmented Dic&lt;/dd&gt;\\n&lt;dd&gt;&lt;a href=\"http://finzi.psych.upenn.edu/R/library/aTSA/html/adf.test.html\"&gt;http://finzi.psych.upenn.edu/R/library/aTSA/html/adf.test.html&lt;/a&gt; (4,334 bytes)&lt;br&gt;&lt;br&gt;&lt;/dd&gt;\\n\\n&lt;dt&gt;3. &lt;strong&gt;&lt;a href=\"http://finzi.psych.upenn.edu/R/library/mleur/html/dftest.html\"&gt;R: &lt;strong class=\"keyword\"&gt;Dickey-Fuller&lt;/strong&gt; test&lt;/a&gt;&lt;/strong&gt; (score: 26)&lt;/dt&gt;\\n&lt;dd&gt;&lt;strong&gt;Author&lt;/strong&gt;: &lt;em&gt;unknown&lt;/em&gt;&lt;/dd&gt;\\n&lt;dd&gt;&lt;strong&gt;Date&lt;/strong&gt;: &lt;em&gt;Tue, 20 Dec 2016 18:38:23 -0500&lt;/em&gt;&lt;/dd&gt;\\n&lt;dd&gt;&lt;strong class=\"keyword\"&gt;Dickey-Fuller&lt;/strong&gt; test Description Usage Arguments Details Value Author&amp;#40;s&amp;#41; See Also Examples page for dftest {mleur} dftest {mleur} R Documentation Computes the &lt;strong class=\"keyword\"&gt;Dickey-Fuller&lt;/strong&gt; test using the pivotal test&lt;/dd&gt;\\n&lt;dd&gt;&lt;a href=\"http://finzi.psych.upenn.edu/R/library/mleur/html/dftest.html\"&gt;http://finzi.psych.upenn.edu/R/library/mleur/html/dftest.html&lt;/a&gt; (1,644 bytes)&lt;br&gt;&lt;br&gt;&lt;/dd&gt;\\n\\n&lt;dt&gt;4. &lt;strong&gt;&lt;a href=\"http://finzi.psych.upenn.edu/R/library/MultipleBubbles/html/ADF_FL.html\"&gt;R: Augmented &lt;strong class=\"keyword\"&gt;Dickey-Fuller&lt;/strong&gt; Statistic&lt;/a&gt;&lt;/strong&gt; (score: 25)&lt;/dt&gt;\\n&lt;dd&gt;&lt;strong&gt;Author&lt;/strong&gt;: &lt;em&gt;unknown&lt;/em&gt;&lt;/dd&gt;\\n&lt;dd&gt;&lt;strong&gt;Date&lt;/strong&gt;: &lt;em&gt;Fri, 19 Oct 2018 06:33:43 -0500&lt;/em&gt;&lt;/dd&gt;\\n&lt;dd&gt;Augmented &lt;strong class=\"keyword\"&gt;Dickey-Fuller&lt;/strong&gt; Statistic Description Usage Arguments References Examples page for ADF_FL {MultipleBubbles} ADF_FL {MultipleBubbles} R Documentation Calculate the Augmented &lt;strong class=\"keyword\"&gt;Dickey-Fuller&lt;/strong&gt; Sta&lt;/dd&gt;\\n&lt;dd&gt;&lt;a href=\"http://finzi.psych.upenn.edu/R/library/MultipleBubbles/html/ADF_FL.html\"&gt;http://finzi.psych.upenn.edu/R/library/MultipleBubbles/html/ADF_FL.html&lt;/a&gt; (1,608 bytes)&lt;br&gt;&lt;br&gt;&lt;/dd&gt;\\n\\n&lt;dt&gt;5. &lt;strong&gt;&lt;a href=\"http://finzi.psych.upenn.edu/R/library/MultipleBubbles/html/ADF_IC.html\"&gt;R: Augmented &lt;strong class=\"keyword\"&gt;Dickey-Fuller&lt;/strong&gt; Statistic by AIC or BIC&lt;/a&gt;&lt;/strong&gt; (score: 25)&lt;/dt&gt;\\n&lt;dd&gt;&lt;strong&gt;Author&lt;/strong&gt;: &lt;em&gt;unknown&lt;/em&gt;&lt;/dd&gt;\\n&lt;dd&gt;&lt;strong&gt;Date&lt;/strong&gt;: &lt;em&gt;Fri, 19 Oct 2018 06:33:43 -0500&lt;/em&gt;&lt;/dd&gt;\\n&lt;dd&gt;Augmented &lt;strong class=\"keyword\"&gt;Dickey-Fuller&lt;/strong&gt; Statistic by AIC or BIC Description Usage Arguments References Examples page for ADF_IC {MultipleBubbles} ADF_IC {MultipleBubbles} R Documentation Calculate the Augmented Dic&lt;/dd&gt;\\n&lt;dd&gt;&lt;a href=\"http://finzi.psych.upenn.edu/R/library/MultipleBubbles/html/ADF_IC.html\"&gt;http://finzi.psych.upenn.edu/R/library/MultipleBubbles/html/ADF_IC.html&lt;/a&gt; (1,790 bytes)&lt;br&gt;&lt;br&gt;&lt;/dd&gt;\\n\\n&lt;dt&gt;6. &lt;strong&gt;&lt;a href=\"http://finzi.psych.upenn.edu/R/library/CADFtest/html/00Index.html\"&gt;R: A Package to Perform Covariate Augmented &lt;strong class=\"keyword\"&gt;Dickey-Fuller&lt;/strong&gt; Unit Root Tests&lt;/a&gt;&lt;/strong&gt; (score: 25)&lt;/dt&gt;\\n&lt;dd&gt;&lt;strong&gt;Author&lt;/strong&gt;: &lt;em&gt;unknown&lt;/em&gt;&lt;/dd&gt;\\n&lt;dd&gt;&lt;strong&gt;Date&lt;/strong&gt;: &lt;em&gt;Sat, 03 Jun 2017 07:50:59 -0500&lt;/em&gt;&lt;/dd&gt;\\n&lt;dd&gt;A Package to Perform Covariate Augmented &lt;strong class=\"keyword\"&gt;Dickey-Fuller&lt;/strong&gt; Unit Root Tests [R logo] Documentation for package &amp;amp;lsquo;CADFtest&amp;amp;rsquo; version 0.3-3 Help Pages [Up] [Top] DESCRIPTION file. User guides, pa&lt;/dd&gt;\\n&lt;dd&gt;&lt;a href=\"http://finzi.psych.upenn.edu/R/library/CADFtest/html/00Index.html\"&gt;http://finzi.psych.upenn.edu/R/library/CADFtest/html/00Index.html&lt;/a&gt; (2,738 bytes)&lt;br&gt;&lt;br&gt;&lt;/dd&gt;\\n\\n&lt;dt&gt;7. &lt;strong&gt;&lt;a href=\"http://finzi.psych.upenn.edu/R/library/PANICr/html/adfp.html\"&gt;R: Generalized Least Squares Modified &lt;strong class=\"keyword\"&gt;Dickey-Fuller&lt;/strong&gt; t test&lt;/a&gt;&lt;/strong&gt; (score: 25)&lt;/dt&gt;\\n&lt;dd&gt;&lt;strong&gt;Author&lt;/strong&gt;: &lt;em&gt;unknown&lt;/em&gt;&lt;/dd&gt;\\n&lt;dd&gt;&lt;strong&gt;Date&lt;/strong&gt;: &lt;em&gt;Tue, 20 Dec 2016 17:45:50 -0500&lt;/em&gt;&lt;/dd&gt;\\n&lt;dd&gt;Generalized Least Squares Modified &lt;strong class=\"keyword\"&gt;Dickey-Fuller&lt;/strong&gt; t test Description Usage Arguments Value page for adfp {PANICr} adfp {PANICr} R Documentation This function performs a modified &lt;strong class=\"keyword\"&gt;Dickey-Fuller&lt;/strong&gt; t test&lt;/dd&gt;\\n&lt;dd&gt;&lt;a href=\"http://finzi.psych.upenn.edu/R/library/PANICr/html/adfp.html\"&gt;http://finzi.psych.upenn.edu/R/library/PANICr/html/adfp.html&lt;/a&gt; (2,117 bytes)&lt;br&gt;&lt;br&gt;&lt;/dd&gt;\\n\\n&lt;dt&gt;8. &lt;strong&gt;&lt;a href=\"http://finzi.psych.upenn.edu/R/library/MultipleBubbles/html/badf.html\"&gt;R: Backward Augmented &lt;strong class=\"keyword\"&gt;Dickey-Fuller&lt;/strong&gt; Sequence.&lt;/a&gt;&lt;/strong&gt; (score: 24)&lt;/dt&gt;\\n&lt;dd&gt;&lt;strong&gt;Author&lt;/strong&gt;: &lt;em&gt;unknown&lt;/em&gt;&lt;/dd&gt;\\n&lt;dd&gt;&lt;strong&gt;Date&lt;/strong&gt;: &lt;em&gt;Fri, 19 Oct 2018 06:33:43 -0500&lt;/em&gt;&lt;/dd&gt;\\n&lt;dd&gt;Backward Augmented &lt;strong class=\"keyword\"&gt;Dickey-Fuller&lt;/strong&gt; Sequence. Description Usage Arguments References Examples page for badf {MultipleBubbles} badf {MultipleBubbles} R Documentation In this program, we calculate critic&lt;/dd&gt;\\n&lt;dd&gt;&lt;a href=\"http://finzi.psych.upenn.edu/R/library/MultipleBubbles/html/badf.html\"&gt;http://finzi.psych.upenn.edu/R/library/MultipleBubbles/html/badf.html&lt;/a&gt; (1,923 bytes)&lt;br&gt;&lt;br&gt;&lt;/dd&gt;\\n\\n&lt;dt&gt;9. &lt;strong&gt;&lt;a href=\"http://finzi.psych.upenn.edu/R/library/predtoolsTS/html/prep.check.adf.html\"&gt;R: Augmented &lt;strong class=\"keyword\"&gt;Dickey-Fuller&lt;/strong&gt; test&lt;/a&gt;&lt;/strong&gt; (score: 24)&lt;/dt&gt;\\n&lt;dd&gt;&lt;strong&gt;Author&lt;/strong&gt;: &lt;em&gt;unknown&lt;/em&gt;&lt;/dd&gt;\\n&lt;dd&gt;&lt;strong&gt;Date&lt;/strong&gt;: &lt;em&gt;Sun, 10 Jun 2018 12:24:10 -0500&lt;/em&gt;&lt;/dd&gt;\\n&lt;dd&gt;Augmented &lt;strong class=\"keyword\"&gt;Dickey-Fuller&lt;/strong&gt; test Description Usage Arguments Details Examples page for prep.check.adf {predtoolsTS} prep.check.adf {predtoolsTS} R Documentation Performs ADF test just as another tool to&lt;/dd&gt;\\n&lt;dd&gt;&lt;a href=\"http://finzi.psych.upenn.edu/R/library/predtoolsTS/html/prep.check.adf.html\"&gt;http://finzi.psych.upenn.edu/R/library/predtoolsTS/html/prep.check.adf.html&lt;/a&gt; (1,234 bytes)&lt;br&gt;&lt;br&gt;&lt;/dd&gt;\\n\\n&lt;dt&gt;10. &lt;strong&gt;&lt;a href=\"http://finzi.psych.upenn.edu/R/library/fUnitRoots/html/DickeyFullerPValues.html\"&gt;R: &lt;strong class=\"keyword\"&gt;Dickey-Fuller&lt;/strong&gt; p Values&lt;/a&gt;&lt;/strong&gt; (score: 24)&lt;/dt&gt;\\n&lt;dd&gt;&lt;strong&gt;Author&lt;/strong&gt;: &lt;em&gt;unknown&lt;/em&gt;&lt;/dd&gt;\\n&lt;dd&gt;&lt;strong&gt;Date&lt;/strong&gt;: &lt;em&gt;Mon, 04 Dec 2017 06:40:48 -0500&lt;/em&gt;&lt;/dd&gt;\\n&lt;dd&gt;&lt;strong class=\"keyword\"&gt;Dickey-Fuller&lt;/strong&gt; p Values Description Usage Arguments Value Note Author&amp;#40;s&amp;#41; References Examples page for DickeyFullerPValues {fUnitRoots} DickeyFullerPValues {fUnitRoots} R Documentation A collection an&lt;/dd&gt;\\n&lt;dd&gt;&lt;a href=\"http://finzi.psych.upenn.edu/R/library/fUnitRoots/html/DickeyFullerPValues.html\"&gt;http://finzi.psych.upenn.edu/R/library/fUnitRoots/html/DickeyFullerPValues.html&lt;/a&gt; (4,157 bytes)&lt;br&gt;&lt;br&gt;&lt;/dd&gt;\\n\\n&lt;dt&gt;11. &lt;strong&gt;&lt;a href=\"http://finzi.psych.upenn.edu/R/library/tseries/html/adf.test.html\"&gt;R: Augmented &lt;strong class=\"keyword\"&gt;Dickey-Fuller&lt;/strong&gt; Test&lt;/a&gt;&lt;/strong&gt; (score: 19)&lt;/dt&gt;\\n&lt;dd&gt;&lt;strong&gt;Author&lt;/strong&gt;: &lt;em&gt;unknown&lt;/em&gt;&lt;/dd&gt;\\n&lt;dd&gt;&lt;strong&gt;Date&lt;/strong&gt;: &lt;em&gt;Sun, 10 Jun 2018 11:41:02 -0500&lt;/em&gt;&lt;/dd&gt;\\n&lt;dd&gt;Augmented Dickey&amp;amp;ndash;Fuller Test Description Usage Arguments Details Value Author&amp;#40;s&amp;#41; References See Also Examples page for adf.test {tseries} adf.test {tseries} R Documentation Computes the Augmen&lt;/dd&gt;\\n&lt;dd&gt;&lt;a href=\"http://finzi.psych.upenn.edu/R/library/tseries/html/adf.test.html\"&gt;http://finzi.psych.upenn.edu/R/library/tseries/html/adf.test.html&lt;/a&gt; (3,734 bytes)&lt;br&gt;&lt;br&gt;&lt;/dd&gt;\\n\\n&lt;dt&gt;12. &lt;strong&gt;&lt;a href=\"http://finzi.psych.upenn.edu/R/library/fUnitRoots/html/00fUnitroots-package.html\"&gt;R: Modelling Trends and Unit Roots&lt;/a&gt;&lt;/strong&gt; (score: 8)&lt;/dt&gt;\\n&lt;dd&gt;&lt;strong&gt;Author&lt;/strong&gt;: &lt;em&gt;unknown&lt;/em&gt;&lt;/dd&gt;\\n&lt;dd&gt;&lt;strong&gt;Date&lt;/strong&gt;: &lt;em&gt;Mon, 04 Dec 2017 06:40:48 -0500&lt;/em&gt;&lt;/dd&gt;\\n&lt;dd&gt;Modelling Trends and Unit Roots Description Details 1 Introduction 2 &lt;strong class=\"keyword\"&gt;Dickey-Fuller&lt;/strong&gt; p Values 3 Mc Kinnon p Values 4 Unit Root Time Series Tests 5 &amp;quot;urca&amp;quot;&amp;quot; Unit Root Test Interface About Rmetrics page&lt;/dd&gt;\\n&lt;dd&gt;&lt;a href=\"http://finzi.psych.upenn.edu/R/library/fUnitRoots/html/00fUnitroots-package.html\"&gt;http://finzi.psych.upenn.edu/R/library/fUnitRoots/html/00fUnitroots-package.html&lt;/a&gt; (3,723 bytes)&lt;br&gt;&lt;br&gt;&lt;/dd&gt;\\n\\n&lt;dt&gt;13. &lt;strong&gt;&lt;a href=\"http://finzi.psych.upenn.edu/R/library/analytics/html/weakly.stationary.html\"&gt;R: Testing for Weak Stationarity in a Time Series&lt;/a&gt;&lt;/strong&gt; (score: 6)&lt;/dt&gt;\\n&lt;dd&gt;&lt;strong&gt;Author&lt;/strong&gt;: &lt;em&gt;unknown&lt;/em&gt;&lt;/dd&gt;\\n&lt;dd&gt;&lt;strong&gt;Date&lt;/strong&gt;: &lt;em&gt;Fri, 19 Oct 2018 07:37:00 -0500&lt;/em&gt;&lt;/dd&gt;\\n&lt;dd&gt;Testing for Weak Stationarity in a Time Series Description Usage Arguments Details Value Author&amp;#40;s&amp;#41; Examples page for weakly.stationary {analytics} weakly.stationary {analytics} R Documentation Perfo&lt;/dd&gt;\\n&lt;dd&gt;&lt;a href=\"http://finzi.psych.upenn.edu/R/library/analytics/html/weakly.stationary.html\"&gt;http://finzi.psych.upenn.edu/R/library/analytics/html/weakly.stationary.html&lt;/a&gt; (5,749 bytes)&lt;br&gt;&lt;br&gt;&lt;/dd&gt;\\n\\n&lt;dt&gt;14. &lt;strong&gt;&lt;a href=\"http://finzi.psych.upenn.edu/R/library/fUnitRoots/html/00Index.html\"&gt;R: Rmetrics - Modelling Trends and Unit Roots&lt;/a&gt;&lt;/strong&gt; (score: 5)&lt;/dt&gt;\\n&lt;dd&gt;&lt;strong&gt;Author&lt;/strong&gt;: &lt;em&gt;unknown&lt;/em&gt;&lt;/dd&gt;\\n&lt;dd&gt;&lt;strong&gt;Date&lt;/strong&gt;: &lt;em&gt;Mon, 04 Dec 2017 06:40:47 -0500&lt;/em&gt;&lt;/dd&gt;\\n&lt;dd&gt;Rmetrics - Modelling Trends and Unit Roots [R logo] Documentation for package &amp;amp;lsquo;fUnitRoots&amp;amp;rsquo; version 3042.79 Help Pages [Up] [Top] DESCRIPTION file. fUnitRoots-package Modelling Trends and&lt;/dd&gt;\\n&lt;dd&gt;&lt;a href=\"http://finzi.psych.upenn.edu/R/library/fUnitRoots/html/00Index.html\"&gt;http://finzi.psych.upenn.edu/R/library/fUnitRoots/html/00Index.html&lt;/a&gt; (3,464 bytes)&lt;br&gt;&lt;br&gt;&lt;/dd&gt;\\n\\n&lt;dt&gt;15. &lt;strong&gt;&lt;a href=\"http://finzi.psych.upenn.edu/R/library/MultipleBubbles/html/00Index.html\"&gt;R: Test and Detection of Explosive Behaviors for Time Series&lt;/a&gt;&lt;/strong&gt; (score: 4)&lt;/dt&gt;\\n&lt;dd&gt;&lt;strong&gt;Author&lt;/strong&gt;: &lt;em&gt;unknown&lt;/em&gt;&lt;/dd&gt;\\n&lt;dd&gt;&lt;strong&gt;Date&lt;/strong&gt;: &lt;em&gt;Fri, 19 Oct 2018 06:33:43 -0500&lt;/em&gt;&lt;/dd&gt;\\n&lt;dd&gt;Test and Detection of Explosive Behaviors for Time Series [R logo] Documentation for package &amp;amp;lsquo;MultipleBubbles&amp;amp;rsquo; version 0.2.0 Help Pages [Up] [Top] DESCRIPTION file. ADF_FL Augmented Dick&lt;/dd&gt;\\n&lt;dd&gt;&lt;a href=\"http://finzi.psych.upenn.edu/R/library/MultipleBubbles/html/00Index.html\"&gt;http://finzi.psych.upenn.edu/R/library/MultipleBubbles/html/00Index.html&lt;/a&gt; (2,089 bytes)&lt;br&gt;&lt;br&gt;&lt;/dd&gt;\\n\\n&lt;dt&gt;16. &lt;strong&gt;&lt;a href=\"/usr/lib64/R/library/KarsTS/extdata/KarsTSUserGuide.pdf\"&gt;KarsTSUserGuide.pdf&lt;/a&gt;&lt;/strong&gt; (score: 3)&lt;/dt&gt;\\n&lt;dd&gt;&lt;strong&gt;Author&lt;/strong&gt;: &lt;em&gt;Marina&lt;/em&gt;&lt;/dd&gt;\\n&lt;dd&gt;&lt;strong&gt;Date&lt;/strong&gt;: &lt;em&gt;Sun, 10 Jun 2018 12:21:37 -0500&lt;/em&gt;&lt;/dd&gt;\\n&lt;dd&gt;KarsTS 2.1 An interface for microclimate time series Userâ€™s guide The KarsTS package Author, Creator and Maintainer: Marina SÃ¡ez Andreu Thesis advisors: David Benavente GarcÃ­a and Soledad Cuezva&lt;/dd&gt;\\n&lt;dd&gt;&lt;a href=\"/usr/lib64/R/library/KarsTS/extdata/KarsTSUserGuide.pdf\"&gt;/usr/lib64/R/library/KarsTS/extdata/KarsTSUserGuide.pdf&lt;/a&gt; (1,224,764 bytes)&lt;br&gt;&lt;br&gt;&lt;/dd&gt;\\n\\n&lt;dt&gt;17. &lt;strong&gt;&lt;a href=\"http://finzi.psych.upenn.edu/R/library/plm/html/purtest.html\"&gt;R: Unit root tests for panel data&lt;/a&gt;&lt;/strong&gt; (score: 3)&lt;/dt&gt;\\n&lt;dd&gt;&lt;strong&gt;Author&lt;/strong&gt;: &lt;em&gt;unknown&lt;/em&gt;&lt;/dd&gt;\\n&lt;dd&gt;&lt;strong&gt;Date&lt;/strong&gt;: &lt;em&gt;Tue, 14 Nov 2017 10:50:53 -0500&lt;/em&gt;&lt;/dd&gt;\\n&lt;dd&gt;Unit root tests for panel data Description Usage Arguments Details Value Author&amp;#40;s&amp;#41; References See Also Examples page for purtest {plm} purtest {plm} R Documentation purtest implements several testin&lt;/dd&gt;\\n&lt;dd&gt;&lt;a href=\"http://finzi.psych.upenn.edu/R/library/plm/html/purtest.html\"&gt;http://finzi.psych.upenn.edu/R/library/plm/html/purtest.html&lt;/a&gt; (8,612 bytes)&lt;br&gt;&lt;br&gt;&lt;/dd&gt;\\n\\n&lt;dt&gt;18. &lt;strong&gt;&lt;a href=\"http://finzi.psych.upenn.edu/R/library/egcm/html/ur_power.html\"&gt;R: Power assessment for unit root tests&lt;/a&gt;&lt;/strong&gt; (score: 3)&lt;/dt&gt;\\n&lt;dd&gt;&lt;strong&gt;Author&lt;/strong&gt;: &lt;em&gt;unknown&lt;/em&gt;&lt;/dd&gt;\\n&lt;dd&gt;&lt;strong&gt;Date&lt;/strong&gt;: &lt;em&gt;Sat, 30 Sep 2017 06:58:51 -0500&lt;/em&gt;&lt;/dd&gt;\\n&lt;dd&gt;Power assessment for unit root tests Description Usage Arguments Details Value Author&amp;#40;s&amp;#41; References See Also Examples page for ur_power {egcm} ur_power {egcm} R Documentation A collection of functio&lt;/dd&gt;\\n&lt;dd&gt;&lt;a href=\"http://finzi.psych.upenn.edu/R/library/egcm/html/ur_power.html\"&gt;http://finzi.psych.upenn.edu/R/library/egcm/html/ur_power.html&lt;/a&gt; (7,924 bytes)&lt;br&gt;&lt;br&gt;&lt;/dd&gt;\\n\\n&lt;dt&gt;19. &lt;strong&gt;&lt;a href=\"http://finzi.psych.upenn.edu/R/library/egcm/html/egcm.html\"&gt;R: Simplified Engle-Granger Cointegration Model&lt;/a&gt;&lt;/strong&gt; (score: 3)&lt;/dt&gt;\\n&lt;dd&gt;&lt;strong&gt;Author&lt;/strong&gt;: &lt;em&gt;unknown&lt;/em&gt;&lt;/dd&gt;\\n&lt;dd&gt;&lt;strong&gt;Date&lt;/strong&gt;: &lt;em&gt;Sat, 30 Sep 2017 06:58:50 -0500&lt;/em&gt;&lt;/dd&gt;\\n&lt;dd&gt;Simplified Engle-Granger Cointegration Model Description Usage Arguments Details Value Disclaimer Note Author&amp;#40;s&amp;#41; References See Also Examples page for egcm {egcm} egcm {egcm} R Documentation Perform&lt;/dd&gt;\\n&lt;dd&gt;&lt;a href=\"http://finzi.psych.upenn.edu/R/library/egcm/html/egcm.html\"&gt;http://finzi.psych.upenn.edu/R/library/egcm/html/egcm.html&lt;/a&gt; (19,950 bytes)&lt;br&gt;&lt;br&gt;&lt;/dd&gt;\\n\\n&lt;dt&gt;20. &lt;strong&gt;&lt;a href=\"http://finzi.psych.upenn.edu/R/library/egcm/html/egcm.set.default.i1test.html\"&gt;R: Set and get defaults for Engle-Granger cointegration models&lt;/a&gt;&lt;/strong&gt; (score: 3)&lt;/dt&gt;\\n&lt;dd&gt;&lt;strong&gt;Author&lt;/strong&gt;: &lt;em&gt;unknown&lt;/em&gt;&lt;/dd&gt;\\n&lt;dd&gt;&lt;strong&gt;Date&lt;/strong&gt;: &lt;em&gt;Sat, 30 Sep 2017 06:58:50 -0500&lt;/em&gt;&lt;/dd&gt;\\n&lt;dd&gt;Set and get defaults for Engle-Granger cointegration models Description Usage Arguments Value Note Author&amp;#40;s&amp;#41; See Also Examples page for egcm.defaults {egcm} egcm.defaults {egcm} R Documentation Set&lt;/dd&gt;\\n&lt;dd&gt;&lt;a href=\"http://finzi.psych.upenn.edu/R/library/egcm/html/egcm.set.default.i1test.html\"&gt;http://finzi.psych.upenn.edu/R/library/egcm/html/egcm.set.default.i1test.html&lt;/a&gt; (5,129 bytes)&lt;br&gt;&lt;br&gt;&lt;/dd&gt;\\n\\n'"
      ],
      "text/latex": [
       "'\\textbackslash{}n<dt>1. <strong><a href=\"http://finzi.psych.upenn.edu/R/library/exuber/html/radf.html\">R: Recursive Augmented <strong class=\"keyword\">Dickey-Fuller</strong> test</a></strong> (score: 30)</dt>\\textbackslash{}n<dd><strong>Author</strong>: <em>unknown</em></dd>\\textbackslash{}n<dd><strong>Date</strong>: <em>Fri, 19 Oct 2018 11:14:14 -0500</em></dd>\\textbackslash{}n<dd>Recursive Augmented <strong class=\"keyword\">Dickey-Fuller</strong> test Description Usage Arguments Value References Examples page for radf \\{exuber\\} radf \\{exuber\\} R Documentation radf returns the t-statistics from a recursive Augme</dd>\\textbackslash{}n<dd><a href=\"http://finzi.psych.upenn.edu/R/library/exuber/html/radf.html\">http://finzi.psych.upenn.edu/R/library/exuber/html/radf.html</a> (2,677 bytes)<br><br></dd>\\textbackslash{}n\\textbackslash{}n<dt>2. <strong><a href=\"http://finzi.psych.upenn.edu/R/library/aTSA/html/adf.test.html\">R: Augmented <strong class=\"keyword\">Dickey-Fuller</strong> Test</a></strong> (score: 30)</dt>\\textbackslash{}n<dd><strong>Author</strong>: <em>unknown</em></dd>\\textbackslash{}n<dd><strong>Date</strong>: <em>Tue, 20 Dec 2016 13:27:33 -0500</em></dd>\\textbackslash{}n<dd>Augmented <strong class=\"keyword\">Dickey-Fuller</strong> Test Description Usage Arguments Details Value Note Author\\&\\#40;s\\&\\#41; References See Also Examples page for adf.test \\{aTSA\\} adf.test \\{aTSA\\} R Documentation Performs the Augmented Dic</dd>\\textbackslash{}n<dd><a href=\"http://finzi.psych.upenn.edu/R/library/aTSA/html/adf.test.html\">http://finzi.psych.upenn.edu/R/library/aTSA/html/adf.test.html</a> (4,334 bytes)<br><br></dd>\\textbackslash{}n\\textbackslash{}n<dt>3. <strong><a href=\"http://finzi.psych.upenn.edu/R/library/mleur/html/dftest.html\">R: <strong class=\"keyword\">Dickey-Fuller</strong> test</a></strong> (score: 26)</dt>\\textbackslash{}n<dd><strong>Author</strong>: <em>unknown</em></dd>\\textbackslash{}n<dd><strong>Date</strong>: <em>Tue, 20 Dec 2016 18:38:23 -0500</em></dd>\\textbackslash{}n<dd><strong class=\"keyword\">Dickey-Fuller</strong> test Description Usage Arguments Details Value Author\\&\\#40;s\\&\\#41; See Also Examples page for dftest \\{mleur\\} dftest \\{mleur\\} R Documentation Computes the <strong class=\"keyword\">Dickey-Fuller</strong> test using the pivotal test</dd>\\textbackslash{}n<dd><a href=\"http://finzi.psych.upenn.edu/R/library/mleur/html/dftest.html\">http://finzi.psych.upenn.edu/R/library/mleur/html/dftest.html</a> (1,644 bytes)<br><br></dd>\\textbackslash{}n\\textbackslash{}n<dt>4. <strong><a href=\"http://finzi.psych.upenn.edu/R/library/MultipleBubbles/html/ADF\\_FL.html\">R: Augmented <strong class=\"keyword\">Dickey-Fuller</strong> Statistic</a></strong> (score: 25)</dt>\\textbackslash{}n<dd><strong>Author</strong>: <em>unknown</em></dd>\\textbackslash{}n<dd><strong>Date</strong>: <em>Fri, 19 Oct 2018 06:33:43 -0500</em></dd>\\textbackslash{}n<dd>Augmented <strong class=\"keyword\">Dickey-Fuller</strong> Statistic Description Usage Arguments References Examples page for ADF\\_FL \\{MultipleBubbles\\} ADF\\_FL \\{MultipleBubbles\\} R Documentation Calculate the Augmented <strong class=\"keyword\">Dickey-Fuller</strong> Sta</dd>\\textbackslash{}n<dd><a href=\"http://finzi.psych.upenn.edu/R/library/MultipleBubbles/html/ADF\\_FL.html\">http://finzi.psych.upenn.edu/R/library/MultipleBubbles/html/ADF\\_FL.html</a> (1,608 bytes)<br><br></dd>\\textbackslash{}n\\textbackslash{}n<dt>5. <strong><a href=\"http://finzi.psych.upenn.edu/R/library/MultipleBubbles/html/ADF\\_IC.html\">R: Augmented <strong class=\"keyword\">Dickey-Fuller</strong> Statistic by AIC or BIC</a></strong> (score: 25)</dt>\\textbackslash{}n<dd><strong>Author</strong>: <em>unknown</em></dd>\\textbackslash{}n<dd><strong>Date</strong>: <em>Fri, 19 Oct 2018 06:33:43 -0500</em></dd>\\textbackslash{}n<dd>Augmented <strong class=\"keyword\">Dickey-Fuller</strong> Statistic by AIC or BIC Description Usage Arguments References Examples page for ADF\\_IC \\{MultipleBubbles\\} ADF\\_IC \\{MultipleBubbles\\} R Documentation Calculate the Augmented Dic</dd>\\textbackslash{}n<dd><a href=\"http://finzi.psych.upenn.edu/R/library/MultipleBubbles/html/ADF\\_IC.html\">http://finzi.psych.upenn.edu/R/library/MultipleBubbles/html/ADF\\_IC.html</a> (1,790 bytes)<br><br></dd>\\textbackslash{}n\\textbackslash{}n<dt>6. <strong><a href=\"http://finzi.psych.upenn.edu/R/library/CADFtest/html/00Index.html\">R: A Package to Perform Covariate Augmented <strong class=\"keyword\">Dickey-Fuller</strong> Unit Root Tests</a></strong> (score: 25)</dt>\\textbackslash{}n<dd><strong>Author</strong>: <em>unknown</em></dd>\\textbackslash{}n<dd><strong>Date</strong>: <em>Sat, 03 Jun 2017 07:50:59 -0500</em></dd>\\textbackslash{}n<dd>A Package to Perform Covariate Augmented <strong class=\"keyword\">Dickey-Fuller</strong> Unit Root Tests {[}R logo{]} Documentation for package \\&amp;lsquo;CADFtest\\&amp;rsquo; version 0.3-3 Help Pages {[}Up{]} {[}Top{]} DESCRIPTION file. User guides, pa</dd>\\textbackslash{}n<dd><a href=\"http://finzi.psych.upenn.edu/R/library/CADFtest/html/00Index.html\">http://finzi.psych.upenn.edu/R/library/CADFtest/html/00Index.html</a> (2,738 bytes)<br><br></dd>\\textbackslash{}n\\textbackslash{}n<dt>7. <strong><a href=\"http://finzi.psych.upenn.edu/R/library/PANICr/html/adfp.html\">R: Generalized Least Squares Modified <strong class=\"keyword\">Dickey-Fuller</strong> t test</a></strong> (score: 25)</dt>\\textbackslash{}n<dd><strong>Author</strong>: <em>unknown</em></dd>\\textbackslash{}n<dd><strong>Date</strong>: <em>Tue, 20 Dec 2016 17:45:50 -0500</em></dd>\\textbackslash{}n<dd>Generalized Least Squares Modified <strong class=\"keyword\">Dickey-Fuller</strong> t test Description Usage Arguments Value page for adfp \\{PANICr\\} adfp \\{PANICr\\} R Documentation This function performs a modified <strong class=\"keyword\">Dickey-Fuller</strong> t test</dd>\\textbackslash{}n<dd><a href=\"http://finzi.psych.upenn.edu/R/library/PANICr/html/adfp.html\">http://finzi.psych.upenn.edu/R/library/PANICr/html/adfp.html</a> (2,117 bytes)<br><br></dd>\\textbackslash{}n\\textbackslash{}n<dt>8. <strong><a href=\"http://finzi.psych.upenn.edu/R/library/MultipleBubbles/html/badf.html\">R: Backward Augmented <strong class=\"keyword\">Dickey-Fuller</strong> Sequence.</a></strong> (score: 24)</dt>\\textbackslash{}n<dd><strong>Author</strong>: <em>unknown</em></dd>\\textbackslash{}n<dd><strong>Date</strong>: <em>Fri, 19 Oct 2018 06:33:43 -0500</em></dd>\\textbackslash{}n<dd>Backward Augmented <strong class=\"keyword\">Dickey-Fuller</strong> Sequence. Description Usage Arguments References Examples page for badf \\{MultipleBubbles\\} badf \\{MultipleBubbles\\} R Documentation In this program, we calculate critic</dd>\\textbackslash{}n<dd><a href=\"http://finzi.psych.upenn.edu/R/library/MultipleBubbles/html/badf.html\">http://finzi.psych.upenn.edu/R/library/MultipleBubbles/html/badf.html</a> (1,923 bytes)<br><br></dd>\\textbackslash{}n\\textbackslash{}n<dt>9. <strong><a href=\"http://finzi.psych.upenn.edu/R/library/predtoolsTS/html/prep.check.adf.html\">R: Augmented <strong class=\"keyword\">Dickey-Fuller</strong> test</a></strong> (score: 24)</dt>\\textbackslash{}n<dd><strong>Author</strong>: <em>unknown</em></dd>\\textbackslash{}n<dd><strong>Date</strong>: <em>Sun, 10 Jun 2018 12:24:10 -0500</em></dd>\\textbackslash{}n<dd>Augmented <strong class=\"keyword\">Dickey-Fuller</strong> test Description Usage Arguments Details Examples page for prep.check.adf \\{predtoolsTS\\} prep.check.adf \\{predtoolsTS\\} R Documentation Performs ADF test just as another tool to</dd>\\textbackslash{}n<dd><a href=\"http://finzi.psych.upenn.edu/R/library/predtoolsTS/html/prep.check.adf.html\">http://finzi.psych.upenn.edu/R/library/predtoolsTS/html/prep.check.adf.html</a> (1,234 bytes)<br><br></dd>\\textbackslash{}n\\textbackslash{}n<dt>10. <strong><a href=\"http://finzi.psych.upenn.edu/R/library/fUnitRoots/html/DickeyFullerPValues.html\">R: <strong class=\"keyword\">Dickey-Fuller</strong> p Values</a></strong> (score: 24)</dt>\\textbackslash{}n<dd><strong>Author</strong>: <em>unknown</em></dd>\\textbackslash{}n<dd><strong>Date</strong>: <em>Mon, 04 Dec 2017 06:40:48 -0500</em></dd>\\textbackslash{}n<dd><strong class=\"keyword\">Dickey-Fuller</strong> p Values Description Usage Arguments Value Note Author\\&\\#40;s\\&\\#41; References Examples page for DickeyFullerPValues \\{fUnitRoots\\} DickeyFullerPValues \\{fUnitRoots\\} R Documentation A collection an</dd>\\textbackslash{}n<dd><a href=\"http://finzi.psych.upenn.edu/R/library/fUnitRoots/html/DickeyFullerPValues.html\">http://finzi.psych.upenn.edu/R/library/fUnitRoots/html/DickeyFullerPValues.html</a> (4,157 bytes)<br><br></dd>\\textbackslash{}n\\textbackslash{}n<dt>11. <strong><a href=\"http://finzi.psych.upenn.edu/R/library/tseries/html/adf.test.html\">R: Augmented <strong class=\"keyword\">Dickey-Fuller</strong> Test</a></strong> (score: 19)</dt>\\textbackslash{}n<dd><strong>Author</strong>: <em>unknown</em></dd>\\textbackslash{}n<dd><strong>Date</strong>: <em>Sun, 10 Jun 2018 11:41:02 -0500</em></dd>\\textbackslash{}n<dd>Augmented Dickey\\&amp;ndash;Fuller Test Description Usage Arguments Details Value Author\\&\\#40;s\\&\\#41; References See Also Examples page for adf.test \\{tseries\\} adf.test \\{tseries\\} R Documentation Computes the Augmen</dd>\\textbackslash{}n<dd><a href=\"http://finzi.psych.upenn.edu/R/library/tseries/html/adf.test.html\">http://finzi.psych.upenn.edu/R/library/tseries/html/adf.test.html</a> (3,734 bytes)<br><br></dd>\\textbackslash{}n\\textbackslash{}n<dt>12. <strong><a href=\"http://finzi.psych.upenn.edu/R/library/fUnitRoots/html/00fUnitroots-package.html\">R: Modelling Trends and Unit Roots</a></strong> (score: 8)</dt>\\textbackslash{}n<dd><strong>Author</strong>: <em>unknown</em></dd>\\textbackslash{}n<dd><strong>Date</strong>: <em>Mon, 04 Dec 2017 06:40:48 -0500</em></dd>\\textbackslash{}n<dd>Modelling Trends and Unit Roots Description Details 1 Introduction 2 <strong class=\"keyword\">Dickey-Fuller</strong> p Values 3 Mc Kinnon p Values 4 Unit Root Time Series Tests 5 \\&quot;urca\\&quot;\\&quot; Unit Root Test Interface About Rmetrics page</dd>\\textbackslash{}n<dd><a href=\"http://finzi.psych.upenn.edu/R/library/fUnitRoots/html/00fUnitroots-package.html\">http://finzi.psych.upenn.edu/R/library/fUnitRoots/html/00fUnitroots-package.html</a> (3,723 bytes)<br><br></dd>\\textbackslash{}n\\textbackslash{}n<dt>13. <strong><a href=\"http://finzi.psych.upenn.edu/R/library/analytics/html/weakly.stationary.html\">R: Testing for Weak Stationarity in a Time Series</a></strong> (score: 6)</dt>\\textbackslash{}n<dd><strong>Author</strong>: <em>unknown</em></dd>\\textbackslash{}n<dd><strong>Date</strong>: <em>Fri, 19 Oct 2018 07:37:00 -0500</em></dd>\\textbackslash{}n<dd>Testing for Weak Stationarity in a Time Series Description Usage Arguments Details Value Author\\&\\#40;s\\&\\#41; Examples page for weakly.stationary \\{analytics\\} weakly.stationary \\{analytics\\} R Documentation Perfo</dd>\\textbackslash{}n<dd><a href=\"http://finzi.psych.upenn.edu/R/library/analytics/html/weakly.stationary.html\">http://finzi.psych.upenn.edu/R/library/analytics/html/weakly.stationary.html</a> (5,749 bytes)<br><br></dd>\\textbackslash{}n\\textbackslash{}n<dt>14. <strong><a href=\"http://finzi.psych.upenn.edu/R/library/fUnitRoots/html/00Index.html\">R: Rmetrics - Modelling Trends and Unit Roots</a></strong> (score: 5)</dt>\\textbackslash{}n<dd><strong>Author</strong>: <em>unknown</em></dd>\\textbackslash{}n<dd><strong>Date</strong>: <em>Mon, 04 Dec 2017 06:40:47 -0500</em></dd>\\textbackslash{}n<dd>Rmetrics - Modelling Trends and Unit Roots {[}R logo{]} Documentation for package \\&amp;lsquo;fUnitRoots\\&amp;rsquo; version 3042.79 Help Pages {[}Up{]} {[}Top{]} DESCRIPTION file. fUnitRoots-package Modelling Trends and</dd>\\textbackslash{}n<dd><a href=\"http://finzi.psych.upenn.edu/R/library/fUnitRoots/html/00Index.html\">http://finzi.psych.upenn.edu/R/library/fUnitRoots/html/00Index.html</a> (3,464 bytes)<br><br></dd>\\textbackslash{}n\\textbackslash{}n<dt>15. <strong><a href=\"http://finzi.psych.upenn.edu/R/library/MultipleBubbles/html/00Index.html\">R: Test and Detection of Explosive Behaviors for Time Series</a></strong> (score: 4)</dt>\\textbackslash{}n<dd><strong>Author</strong>: <em>unknown</em></dd>\\textbackslash{}n<dd><strong>Date</strong>: <em>Fri, 19 Oct 2018 06:33:43 -0500</em></dd>\\textbackslash{}n<dd>Test and Detection of Explosive Behaviors for Time Series {[}R logo{]} Documentation for package \\&amp;lsquo;MultipleBubbles\\&amp;rsquo; version 0.2.0 Help Pages {[}Up{]} {[}Top{]} DESCRIPTION file. ADF\\_FL Augmented Dick</dd>\\textbackslash{}n<dd><a href=\"http://finzi.psych.upenn.edu/R/library/MultipleBubbles/html/00Index.html\">http://finzi.psych.upenn.edu/R/library/MultipleBubbles/html/00Index.html</a> (2,089 bytes)<br><br></dd>\\textbackslash{}n\\textbackslash{}n<dt>16. <strong><a href=\"/usr/lib64/R/library/KarsTS/extdata/KarsTSUserGuide.pdf\">KarsTSUserGuide.pdf</a></strong> (score: 3)</dt>\\textbackslash{}n<dd><strong>Author</strong>: <em>Marina</em></dd>\\textbackslash{}n<dd><strong>Date</strong>: <em>Sun, 10 Jun 2018 12:21:37 -0500</em></dd>\\textbackslash{}n<dd>KarsTS 2.1 An interface for microclimate time series Userâ€™s guide The KarsTS package Author, Creator and Maintainer: Marina SÃ¡ez Andreu Thesis advisors: David Benavente GarcÃ­a and Soledad Cuezva</dd>\\textbackslash{}n<dd><a href=\"/usr/lib64/R/library/KarsTS/extdata/KarsTSUserGuide.pdf\">/usr/lib64/R/library/KarsTS/extdata/KarsTSUserGuide.pdf</a> (1,224,764 bytes)<br><br></dd>\\textbackslash{}n\\textbackslash{}n<dt>17. <strong><a href=\"http://finzi.psych.upenn.edu/R/library/plm/html/purtest.html\">R: Unit root tests for panel data</a></strong> (score: 3)</dt>\\textbackslash{}n<dd><strong>Author</strong>: <em>unknown</em></dd>\\textbackslash{}n<dd><strong>Date</strong>: <em>Tue, 14 Nov 2017 10:50:53 -0500</em></dd>\\textbackslash{}n<dd>Unit root tests for panel data Description Usage Arguments Details Value Author\\&\\#40;s\\&\\#41; References See Also Examples page for purtest \\{plm\\} purtest \\{plm\\} R Documentation purtest implements several testin</dd>\\textbackslash{}n<dd><a href=\"http://finzi.psych.upenn.edu/R/library/plm/html/purtest.html\">http://finzi.psych.upenn.edu/R/library/plm/html/purtest.html</a> (8,612 bytes)<br><br></dd>\\textbackslash{}n\\textbackslash{}n<dt>18. <strong><a href=\"http://finzi.psych.upenn.edu/R/library/egcm/html/ur\\_power.html\">R: Power assessment for unit root tests</a></strong> (score: 3)</dt>\\textbackslash{}n<dd><strong>Author</strong>: <em>unknown</em></dd>\\textbackslash{}n<dd><strong>Date</strong>: <em>Sat, 30 Sep 2017 06:58:51 -0500</em></dd>\\textbackslash{}n<dd>Power assessment for unit root tests Description Usage Arguments Details Value Author\\&\\#40;s\\&\\#41; References See Also Examples page for ur\\_power \\{egcm\\} ur\\_power \\{egcm\\} R Documentation A collection of functio</dd>\\textbackslash{}n<dd><a href=\"http://finzi.psych.upenn.edu/R/library/egcm/html/ur\\_power.html\">http://finzi.psych.upenn.edu/R/library/egcm/html/ur\\_power.html</a> (7,924 bytes)<br><br></dd>\\textbackslash{}n\\textbackslash{}n<dt>19. <strong><a href=\"http://finzi.psych.upenn.edu/R/library/egcm/html/egcm.html\">R: Simplified Engle-Granger Cointegration Model</a></strong> (score: 3)</dt>\\textbackslash{}n<dd><strong>Author</strong>: <em>unknown</em></dd>\\textbackslash{}n<dd><strong>Date</strong>: <em>Sat, 30 Sep 2017 06:58:50 -0500</em></dd>\\textbackslash{}n<dd>Simplified Engle-Granger Cointegration Model Description Usage Arguments Details Value Disclaimer Note Author\\&\\#40;s\\&\\#41; References See Also Examples page for egcm \\{egcm\\} egcm \\{egcm\\} R Documentation Perform</dd>\\textbackslash{}n<dd><a href=\"http://finzi.psych.upenn.edu/R/library/egcm/html/egcm.html\">http://finzi.psych.upenn.edu/R/library/egcm/html/egcm.html</a> (19,950 bytes)<br><br></dd>\\textbackslash{}n\\textbackslash{}n<dt>20. <strong><a href=\"http://finzi.psych.upenn.edu/R/library/egcm/html/egcm.set.default.i1test.html\">R: Set and get defaults for Engle-Granger cointegration models</a></strong> (score: 3)</dt>\\textbackslash{}n<dd><strong>Author</strong>: <em>unknown</em></dd>\\textbackslash{}n<dd><strong>Date</strong>: <em>Sat, 30 Sep 2017 06:58:50 -0500</em></dd>\\textbackslash{}n<dd>Set and get defaults for Engle-Granger cointegration models Description Usage Arguments Value Note Author\\&\\#40;s\\&\\#41; See Also Examples page for egcm.defaults \\{egcm\\} egcm.defaults \\{egcm\\} R Documentation Set</dd>\\textbackslash{}n<dd><a href=\"http://finzi.psych.upenn.edu/R/library/egcm/html/egcm.set.default.i1test.html\">http://finzi.psych.upenn.edu/R/library/egcm/html/egcm.set.default.i1test.html</a> (5,129 bytes)<br><br></dd>\\textbackslash{}n\\textbackslash{}n'"
      ],
      "text/markdown": [
       "'\\n&lt;dt&gt;1. &lt;strong&gt;&lt;a href=\"http://finzi.psych.upenn.edu/R/library/exuber/html/radf.html\"&gt;R: Recursive Augmented &lt;strong class=\"keyword\"&gt;Dickey-Fuller&lt;/strong&gt; test&lt;/a&gt;&lt;/strong&gt; (score: 30)&lt;/dt&gt;\\n&lt;dd&gt;&lt;strong&gt;Author&lt;/strong&gt;: &lt;em&gt;unknown&lt;/em&gt;&lt;/dd&gt;\\n&lt;dd&gt;&lt;strong&gt;Date&lt;/strong&gt;: &lt;em&gt;Fri, 19 Oct 2018 11:14:14 -0500&lt;/em&gt;&lt;/dd&gt;\\n&lt;dd&gt;Recursive Augmented &lt;strong class=\"keyword\"&gt;Dickey-Fuller&lt;/strong&gt; test Description Usage Arguments Value References Examples page for radf {exuber} radf {exuber} R Documentation radf returns the t-statistics from a recursive Augme&lt;/dd&gt;\\n&lt;dd&gt;&lt;a href=\"http://finzi.psych.upenn.edu/R/library/exuber/html/radf.html\"&gt;http://finzi.psych.upenn.edu/R/library/exuber/html/radf.html&lt;/a&gt; (2,677 bytes)&lt;br&gt;&lt;br&gt;&lt;/dd&gt;\\n\\n&lt;dt&gt;2. &lt;strong&gt;&lt;a href=\"http://finzi.psych.upenn.edu/R/library/aTSA/html/adf.test.html\"&gt;R: Augmented &lt;strong class=\"keyword\"&gt;Dickey-Fuller&lt;/strong&gt; Test&lt;/a&gt;&lt;/strong&gt; (score: 30)&lt;/dt&gt;\\n&lt;dd&gt;&lt;strong&gt;Author&lt;/strong&gt;: &lt;em&gt;unknown&lt;/em&gt;&lt;/dd&gt;\\n&lt;dd&gt;&lt;strong&gt;Date&lt;/strong&gt;: &lt;em&gt;Tue, 20 Dec 2016 13:27:33 -0500&lt;/em&gt;&lt;/dd&gt;\\n&lt;dd&gt;Augmented &lt;strong class=\"keyword\"&gt;Dickey-Fuller&lt;/strong&gt; Test Description Usage Arguments Details Value Note Author&amp;#40;s&amp;#41; References See Also Examples page for adf.test {aTSA} adf.test {aTSA} R Documentation Performs the Augmented Dic&lt;/dd&gt;\\n&lt;dd&gt;&lt;a href=\"http://finzi.psych.upenn.edu/R/library/aTSA/html/adf.test.html\"&gt;http://finzi.psych.upenn.edu/R/library/aTSA/html/adf.test.html&lt;/a&gt; (4,334 bytes)&lt;br&gt;&lt;br&gt;&lt;/dd&gt;\\n\\n&lt;dt&gt;3. &lt;strong&gt;&lt;a href=\"http://finzi.psych.upenn.edu/R/library/mleur/html/dftest.html\"&gt;R: &lt;strong class=\"keyword\"&gt;Dickey-Fuller&lt;/strong&gt; test&lt;/a&gt;&lt;/strong&gt; (score: 26)&lt;/dt&gt;\\n&lt;dd&gt;&lt;strong&gt;Author&lt;/strong&gt;: &lt;em&gt;unknown&lt;/em&gt;&lt;/dd&gt;\\n&lt;dd&gt;&lt;strong&gt;Date&lt;/strong&gt;: &lt;em&gt;Tue, 20 Dec 2016 18:38:23 -0500&lt;/em&gt;&lt;/dd&gt;\\n&lt;dd&gt;&lt;strong class=\"keyword\"&gt;Dickey-Fuller&lt;/strong&gt; test Description Usage Arguments Details Value Author&amp;#40;s&amp;#41; See Also Examples page for dftest {mleur} dftest {mleur} R Documentation Computes the &lt;strong class=\"keyword\"&gt;Dickey-Fuller&lt;/strong&gt; test using the pivotal test&lt;/dd&gt;\\n&lt;dd&gt;&lt;a href=\"http://finzi.psych.upenn.edu/R/library/mleur/html/dftest.html\"&gt;http://finzi.psych.upenn.edu/R/library/mleur/html/dftest.html&lt;/a&gt; (1,644 bytes)&lt;br&gt;&lt;br&gt;&lt;/dd&gt;\\n\\n&lt;dt&gt;4. &lt;strong&gt;&lt;a href=\"http://finzi.psych.upenn.edu/R/library/MultipleBubbles/html/ADF_FL.html\"&gt;R: Augmented &lt;strong class=\"keyword\"&gt;Dickey-Fuller&lt;/strong&gt; Statistic&lt;/a&gt;&lt;/strong&gt; (score: 25)&lt;/dt&gt;\\n&lt;dd&gt;&lt;strong&gt;Author&lt;/strong&gt;: &lt;em&gt;unknown&lt;/em&gt;&lt;/dd&gt;\\n&lt;dd&gt;&lt;strong&gt;Date&lt;/strong&gt;: &lt;em&gt;Fri, 19 Oct 2018 06:33:43 -0500&lt;/em&gt;&lt;/dd&gt;\\n&lt;dd&gt;Augmented &lt;strong class=\"keyword\"&gt;Dickey-Fuller&lt;/strong&gt; Statistic Description Usage Arguments References Examples page for ADF_FL {MultipleBubbles} ADF_FL {MultipleBubbles} R Documentation Calculate the Augmented &lt;strong class=\"keyword\"&gt;Dickey-Fuller&lt;/strong&gt; Sta&lt;/dd&gt;\\n&lt;dd&gt;&lt;a href=\"http://finzi.psych.upenn.edu/R/library/MultipleBubbles/html/ADF_FL.html\"&gt;http://finzi.psych.upenn.edu/R/library/MultipleBubbles/html/ADF_FL.html&lt;/a&gt; (1,608 bytes)&lt;br&gt;&lt;br&gt;&lt;/dd&gt;\\n\\n&lt;dt&gt;5. &lt;strong&gt;&lt;a href=\"http://finzi.psych.upenn.edu/R/library/MultipleBubbles/html/ADF_IC.html\"&gt;R: Augmented &lt;strong class=\"keyword\"&gt;Dickey-Fuller&lt;/strong&gt; Statistic by AIC or BIC&lt;/a&gt;&lt;/strong&gt; (score: 25)&lt;/dt&gt;\\n&lt;dd&gt;&lt;strong&gt;Author&lt;/strong&gt;: &lt;em&gt;unknown&lt;/em&gt;&lt;/dd&gt;\\n&lt;dd&gt;&lt;strong&gt;Date&lt;/strong&gt;: &lt;em&gt;Fri, 19 Oct 2018 06:33:43 -0500&lt;/em&gt;&lt;/dd&gt;\\n&lt;dd&gt;Augmented &lt;strong class=\"keyword\"&gt;Dickey-Fuller&lt;/strong&gt; Statistic by AIC or BIC Description Usage Arguments References Examples page for ADF_IC {MultipleBubbles} ADF_IC {MultipleBubbles} R Documentation Calculate the Augmented Dic&lt;/dd&gt;\\n&lt;dd&gt;&lt;a href=\"http://finzi.psych.upenn.edu/R/library/MultipleBubbles/html/ADF_IC.html\"&gt;http://finzi.psych.upenn.edu/R/library/MultipleBubbles/html/ADF_IC.html&lt;/a&gt; (1,790 bytes)&lt;br&gt;&lt;br&gt;&lt;/dd&gt;\\n\\n&lt;dt&gt;6. &lt;strong&gt;&lt;a href=\"http://finzi.psych.upenn.edu/R/library/CADFtest/html/00Index.html\"&gt;R: A Package to Perform Covariate Augmented &lt;strong class=\"keyword\"&gt;Dickey-Fuller&lt;/strong&gt; Unit Root Tests&lt;/a&gt;&lt;/strong&gt; (score: 25)&lt;/dt&gt;\\n&lt;dd&gt;&lt;strong&gt;Author&lt;/strong&gt;: &lt;em&gt;unknown&lt;/em&gt;&lt;/dd&gt;\\n&lt;dd&gt;&lt;strong&gt;Date&lt;/strong&gt;: &lt;em&gt;Sat, 03 Jun 2017 07:50:59 -0500&lt;/em&gt;&lt;/dd&gt;\\n&lt;dd&gt;A Package to Perform Covariate Augmented &lt;strong class=\"keyword\"&gt;Dickey-Fuller&lt;/strong&gt; Unit Root Tests [R logo] Documentation for package &amp;amp;lsquo;CADFtest&amp;amp;rsquo; version 0.3-3 Help Pages [Up] [Top] DESCRIPTION file. User guides, pa&lt;/dd&gt;\\n&lt;dd&gt;&lt;a href=\"http://finzi.psych.upenn.edu/R/library/CADFtest/html/00Index.html\"&gt;http://finzi.psych.upenn.edu/R/library/CADFtest/html/00Index.html&lt;/a&gt; (2,738 bytes)&lt;br&gt;&lt;br&gt;&lt;/dd&gt;\\n\\n&lt;dt&gt;7. &lt;strong&gt;&lt;a href=\"http://finzi.psych.upenn.edu/R/library/PANICr/html/adfp.html\"&gt;R: Generalized Least Squares Modified &lt;strong class=\"keyword\"&gt;Dickey-Fuller&lt;/strong&gt; t test&lt;/a&gt;&lt;/strong&gt; (score: 25)&lt;/dt&gt;\\n&lt;dd&gt;&lt;strong&gt;Author&lt;/strong&gt;: &lt;em&gt;unknown&lt;/em&gt;&lt;/dd&gt;\\n&lt;dd&gt;&lt;strong&gt;Date&lt;/strong&gt;: &lt;em&gt;Tue, 20 Dec 2016 17:45:50 -0500&lt;/em&gt;&lt;/dd&gt;\\n&lt;dd&gt;Generalized Least Squares Modified &lt;strong class=\"keyword\"&gt;Dickey-Fuller&lt;/strong&gt; t test Description Usage Arguments Value page for adfp {PANICr} adfp {PANICr} R Documentation This function performs a modified &lt;strong class=\"keyword\"&gt;Dickey-Fuller&lt;/strong&gt; t test&lt;/dd&gt;\\n&lt;dd&gt;&lt;a href=\"http://finzi.psych.upenn.edu/R/library/PANICr/html/adfp.html\"&gt;http://finzi.psych.upenn.edu/R/library/PANICr/html/adfp.html&lt;/a&gt; (2,117 bytes)&lt;br&gt;&lt;br&gt;&lt;/dd&gt;\\n\\n&lt;dt&gt;8. &lt;strong&gt;&lt;a href=\"http://finzi.psych.upenn.edu/R/library/MultipleBubbles/html/badf.html\"&gt;R: Backward Augmented &lt;strong class=\"keyword\"&gt;Dickey-Fuller&lt;/strong&gt; Sequence.&lt;/a&gt;&lt;/strong&gt; (score: 24)&lt;/dt&gt;\\n&lt;dd&gt;&lt;strong&gt;Author&lt;/strong&gt;: &lt;em&gt;unknown&lt;/em&gt;&lt;/dd&gt;\\n&lt;dd&gt;&lt;strong&gt;Date&lt;/strong&gt;: &lt;em&gt;Fri, 19 Oct 2018 06:33:43 -0500&lt;/em&gt;&lt;/dd&gt;\\n&lt;dd&gt;Backward Augmented &lt;strong class=\"keyword\"&gt;Dickey-Fuller&lt;/strong&gt; Sequence. Description Usage Arguments References Examples page for badf {MultipleBubbles} badf {MultipleBubbles} R Documentation In this program, we calculate critic&lt;/dd&gt;\\n&lt;dd&gt;&lt;a href=\"http://finzi.psych.upenn.edu/R/library/MultipleBubbles/html/badf.html\"&gt;http://finzi.psych.upenn.edu/R/library/MultipleBubbles/html/badf.html&lt;/a&gt; (1,923 bytes)&lt;br&gt;&lt;br&gt;&lt;/dd&gt;\\n\\n&lt;dt&gt;9. &lt;strong&gt;&lt;a href=\"http://finzi.psych.upenn.edu/R/library/predtoolsTS/html/prep.check.adf.html\"&gt;R: Augmented &lt;strong class=\"keyword\"&gt;Dickey-Fuller&lt;/strong&gt; test&lt;/a&gt;&lt;/strong&gt; (score: 24)&lt;/dt&gt;\\n&lt;dd&gt;&lt;strong&gt;Author&lt;/strong&gt;: &lt;em&gt;unknown&lt;/em&gt;&lt;/dd&gt;\\n&lt;dd&gt;&lt;strong&gt;Date&lt;/strong&gt;: &lt;em&gt;Sun, 10 Jun 2018 12:24:10 -0500&lt;/em&gt;&lt;/dd&gt;\\n&lt;dd&gt;Augmented &lt;strong class=\"keyword\"&gt;Dickey-Fuller&lt;/strong&gt; test Description Usage Arguments Details Examples page for prep.check.adf {predtoolsTS} prep.check.adf {predtoolsTS} R Documentation Performs ADF test just as another tool to&lt;/dd&gt;\\n&lt;dd&gt;&lt;a href=\"http://finzi.psych.upenn.edu/R/library/predtoolsTS/html/prep.check.adf.html\"&gt;http://finzi.psych.upenn.edu/R/library/predtoolsTS/html/prep.check.adf.html&lt;/a&gt; (1,234 bytes)&lt;br&gt;&lt;br&gt;&lt;/dd&gt;\\n\\n&lt;dt&gt;10. &lt;strong&gt;&lt;a href=\"http://finzi.psych.upenn.edu/R/library/fUnitRoots/html/DickeyFullerPValues.html\"&gt;R: &lt;strong class=\"keyword\"&gt;Dickey-Fuller&lt;/strong&gt; p Values&lt;/a&gt;&lt;/strong&gt; (score: 24)&lt;/dt&gt;\\n&lt;dd&gt;&lt;strong&gt;Author&lt;/strong&gt;: &lt;em&gt;unknown&lt;/em&gt;&lt;/dd&gt;\\n&lt;dd&gt;&lt;strong&gt;Date&lt;/strong&gt;: &lt;em&gt;Mon, 04 Dec 2017 06:40:48 -0500&lt;/em&gt;&lt;/dd&gt;\\n&lt;dd&gt;&lt;strong class=\"keyword\"&gt;Dickey-Fuller&lt;/strong&gt; p Values Description Usage Arguments Value Note Author&amp;#40;s&amp;#41; References Examples page for DickeyFullerPValues {fUnitRoots} DickeyFullerPValues {fUnitRoots} R Documentation A collection an&lt;/dd&gt;\\n&lt;dd&gt;&lt;a href=\"http://finzi.psych.upenn.edu/R/library/fUnitRoots/html/DickeyFullerPValues.html\"&gt;http://finzi.psych.upenn.edu/R/library/fUnitRoots/html/DickeyFullerPValues.html&lt;/a&gt; (4,157 bytes)&lt;br&gt;&lt;br&gt;&lt;/dd&gt;\\n\\n&lt;dt&gt;11. &lt;strong&gt;&lt;a href=\"http://finzi.psych.upenn.edu/R/library/tseries/html/adf.test.html\"&gt;R: Augmented &lt;strong class=\"keyword\"&gt;Dickey-Fuller&lt;/strong&gt; Test&lt;/a&gt;&lt;/strong&gt; (score: 19)&lt;/dt&gt;\\n&lt;dd&gt;&lt;strong&gt;Author&lt;/strong&gt;: &lt;em&gt;unknown&lt;/em&gt;&lt;/dd&gt;\\n&lt;dd&gt;&lt;strong&gt;Date&lt;/strong&gt;: &lt;em&gt;Sun, 10 Jun 2018 11:41:02 -0500&lt;/em&gt;&lt;/dd&gt;\\n&lt;dd&gt;Augmented Dickey&amp;amp;ndash;Fuller Test Description Usage Arguments Details Value Author&amp;#40;s&amp;#41; References See Also Examples page for adf.test {tseries} adf.test {tseries} R Documentation Computes the Augmen&lt;/dd&gt;\\n&lt;dd&gt;&lt;a href=\"http://finzi.psych.upenn.edu/R/library/tseries/html/adf.test.html\"&gt;http://finzi.psych.upenn.edu/R/library/tseries/html/adf.test.html&lt;/a&gt; (3,734 bytes)&lt;br&gt;&lt;br&gt;&lt;/dd&gt;\\n\\n&lt;dt&gt;12. &lt;strong&gt;&lt;a href=\"http://finzi.psych.upenn.edu/R/library/fUnitRoots/html/00fUnitroots-package.html\"&gt;R: Modelling Trends and Unit Roots&lt;/a&gt;&lt;/strong&gt; (score: 8)&lt;/dt&gt;\\n&lt;dd&gt;&lt;strong&gt;Author&lt;/strong&gt;: &lt;em&gt;unknown&lt;/em&gt;&lt;/dd&gt;\\n&lt;dd&gt;&lt;strong&gt;Date&lt;/strong&gt;: &lt;em&gt;Mon, 04 Dec 2017 06:40:48 -0500&lt;/em&gt;&lt;/dd&gt;\\n&lt;dd&gt;Modelling Trends and Unit Roots Description Details 1 Introduction 2 &lt;strong class=\"keyword\"&gt;Dickey-Fuller&lt;/strong&gt; p Values 3 Mc Kinnon p Values 4 Unit Root Time Series Tests 5 &amp;quot;urca&amp;quot;&amp;quot; Unit Root Test Interface About Rmetrics page&lt;/dd&gt;\\n&lt;dd&gt;&lt;a href=\"http://finzi.psych.upenn.edu/R/library/fUnitRoots/html/00fUnitroots-package.html\"&gt;http://finzi.psych.upenn.edu/R/library/fUnitRoots/html/00fUnitroots-package.html&lt;/a&gt; (3,723 bytes)&lt;br&gt;&lt;br&gt;&lt;/dd&gt;\\n\\n&lt;dt&gt;13. &lt;strong&gt;&lt;a href=\"http://finzi.psych.upenn.edu/R/library/analytics/html/weakly.stationary.html\"&gt;R: Testing for Weak Stationarity in a Time Series&lt;/a&gt;&lt;/strong&gt; (score: 6)&lt;/dt&gt;\\n&lt;dd&gt;&lt;strong&gt;Author&lt;/strong&gt;: &lt;em&gt;unknown&lt;/em&gt;&lt;/dd&gt;\\n&lt;dd&gt;&lt;strong&gt;Date&lt;/strong&gt;: &lt;em&gt;Fri, 19 Oct 2018 07:37:00 -0500&lt;/em&gt;&lt;/dd&gt;\\n&lt;dd&gt;Testing for Weak Stationarity in a Time Series Description Usage Arguments Details Value Author&amp;#40;s&amp;#41; Examples page for weakly.stationary {analytics} weakly.stationary {analytics} R Documentation Perfo&lt;/dd&gt;\\n&lt;dd&gt;&lt;a href=\"http://finzi.psych.upenn.edu/R/library/analytics/html/weakly.stationary.html\"&gt;http://finzi.psych.upenn.edu/R/library/analytics/html/weakly.stationary.html&lt;/a&gt; (5,749 bytes)&lt;br&gt;&lt;br&gt;&lt;/dd&gt;\\n\\n&lt;dt&gt;14. &lt;strong&gt;&lt;a href=\"http://finzi.psych.upenn.edu/R/library/fUnitRoots/html/00Index.html\"&gt;R: Rmetrics - Modelling Trends and Unit Roots&lt;/a&gt;&lt;/strong&gt; (score: 5)&lt;/dt&gt;\\n&lt;dd&gt;&lt;strong&gt;Author&lt;/strong&gt;: &lt;em&gt;unknown&lt;/em&gt;&lt;/dd&gt;\\n&lt;dd&gt;&lt;strong&gt;Date&lt;/strong&gt;: &lt;em&gt;Mon, 04 Dec 2017 06:40:47 -0500&lt;/em&gt;&lt;/dd&gt;\\n&lt;dd&gt;Rmetrics - Modelling Trends and Unit Roots [R logo] Documentation for package &amp;amp;lsquo;fUnitRoots&amp;amp;rsquo; version 3042.79 Help Pages [Up] [Top] DESCRIPTION file. fUnitRoots-package Modelling Trends and&lt;/dd&gt;\\n&lt;dd&gt;&lt;a href=\"http://finzi.psych.upenn.edu/R/library/fUnitRoots/html/00Index.html\"&gt;http://finzi.psych.upenn.edu/R/library/fUnitRoots/html/00Index.html&lt;/a&gt; (3,464 bytes)&lt;br&gt;&lt;br&gt;&lt;/dd&gt;\\n\\n&lt;dt&gt;15. &lt;strong&gt;&lt;a href=\"http://finzi.psych.upenn.edu/R/library/MultipleBubbles/html/00Index.html\"&gt;R: Test and Detection of Explosive Behaviors for Time Series&lt;/a&gt;&lt;/strong&gt; (score: 4)&lt;/dt&gt;\\n&lt;dd&gt;&lt;strong&gt;Author&lt;/strong&gt;: &lt;em&gt;unknown&lt;/em&gt;&lt;/dd&gt;\\n&lt;dd&gt;&lt;strong&gt;Date&lt;/strong&gt;: &lt;em&gt;Fri, 19 Oct 2018 06:33:43 -0500&lt;/em&gt;&lt;/dd&gt;\\n&lt;dd&gt;Test and Detection of Explosive Behaviors for Time Series [R logo] Documentation for package &amp;amp;lsquo;MultipleBubbles&amp;amp;rsquo; version 0.2.0 Help Pages [Up] [Top] DESCRIPTION file. ADF_FL Augmented Dick&lt;/dd&gt;\\n&lt;dd&gt;&lt;a href=\"http://finzi.psych.upenn.edu/R/library/MultipleBubbles/html/00Index.html\"&gt;http://finzi.psych.upenn.edu/R/library/MultipleBubbles/html/00Index.html&lt;/a&gt; (2,089 bytes)&lt;br&gt;&lt;br&gt;&lt;/dd&gt;\\n\\n&lt;dt&gt;16. &lt;strong&gt;&lt;a href=\"/usr/lib64/R/library/KarsTS/extdata/KarsTSUserGuide.pdf\"&gt;KarsTSUserGuide.pdf&lt;/a&gt;&lt;/strong&gt; (score: 3)&lt;/dt&gt;\\n&lt;dd&gt;&lt;strong&gt;Author&lt;/strong&gt;: &lt;em&gt;Marina&lt;/em&gt;&lt;/dd&gt;\\n&lt;dd&gt;&lt;strong&gt;Date&lt;/strong&gt;: &lt;em&gt;Sun, 10 Jun 2018 12:21:37 -0500&lt;/em&gt;&lt;/dd&gt;\\n&lt;dd&gt;KarsTS 2.1 An interface for microclimate time series Userâ€™s guide The KarsTS package Author, Creator and Maintainer: Marina SÃ¡ez Andreu Thesis advisors: David Benavente GarcÃ­a and Soledad Cuezva&lt;/dd&gt;\\n&lt;dd&gt;&lt;a href=\"/usr/lib64/R/library/KarsTS/extdata/KarsTSUserGuide.pdf\"&gt;/usr/lib64/R/library/KarsTS/extdata/KarsTSUserGuide.pdf&lt;/a&gt; (1,224,764 bytes)&lt;br&gt;&lt;br&gt;&lt;/dd&gt;\\n\\n&lt;dt&gt;17. &lt;strong&gt;&lt;a href=\"http://finzi.psych.upenn.edu/R/library/plm/html/purtest.html\"&gt;R: Unit root tests for panel data&lt;/a&gt;&lt;/strong&gt; (score: 3)&lt;/dt&gt;\\n&lt;dd&gt;&lt;strong&gt;Author&lt;/strong&gt;: &lt;em&gt;unknown&lt;/em&gt;&lt;/dd&gt;\\n&lt;dd&gt;&lt;strong&gt;Date&lt;/strong&gt;: &lt;em&gt;Tue, 14 Nov 2017 10:50:53 -0500&lt;/em&gt;&lt;/dd&gt;\\n&lt;dd&gt;Unit root tests for panel data Description Usage Arguments Details Value Author&amp;#40;s&amp;#41; References See Also Examples page for purtest {plm} purtest {plm} R Documentation purtest implements several testin&lt;/dd&gt;\\n&lt;dd&gt;&lt;a href=\"http://finzi.psych.upenn.edu/R/library/plm/html/purtest.html\"&gt;http://finzi.psych.upenn.edu/R/library/plm/html/purtest.html&lt;/a&gt; (8,612 bytes)&lt;br&gt;&lt;br&gt;&lt;/dd&gt;\\n\\n&lt;dt&gt;18. &lt;strong&gt;&lt;a href=\"http://finzi.psych.upenn.edu/R/library/egcm/html/ur_power.html\"&gt;R: Power assessment for unit root tests&lt;/a&gt;&lt;/strong&gt; (score: 3)&lt;/dt&gt;\\n&lt;dd&gt;&lt;strong&gt;Author&lt;/strong&gt;: &lt;em&gt;unknown&lt;/em&gt;&lt;/dd&gt;\\n&lt;dd&gt;&lt;strong&gt;Date&lt;/strong&gt;: &lt;em&gt;Sat, 30 Sep 2017 06:58:51 -0500&lt;/em&gt;&lt;/dd&gt;\\n&lt;dd&gt;Power assessment for unit root tests Description Usage Arguments Details Value Author&amp;#40;s&amp;#41; References See Also Examples page for ur_power {egcm} ur_power {egcm} R Documentation A collection of functio&lt;/dd&gt;\\n&lt;dd&gt;&lt;a href=\"http://finzi.psych.upenn.edu/R/library/egcm/html/ur_power.html\"&gt;http://finzi.psych.upenn.edu/R/library/egcm/html/ur_power.html&lt;/a&gt; (7,924 bytes)&lt;br&gt;&lt;br&gt;&lt;/dd&gt;\\n\\n&lt;dt&gt;19. &lt;strong&gt;&lt;a href=\"http://finzi.psych.upenn.edu/R/library/egcm/html/egcm.html\"&gt;R: Simplified Engle-Granger Cointegration Model&lt;/a&gt;&lt;/strong&gt; (score: 3)&lt;/dt&gt;\\n&lt;dd&gt;&lt;strong&gt;Author&lt;/strong&gt;: &lt;em&gt;unknown&lt;/em&gt;&lt;/dd&gt;\\n&lt;dd&gt;&lt;strong&gt;Date&lt;/strong&gt;: &lt;em&gt;Sat, 30 Sep 2017 06:58:50 -0500&lt;/em&gt;&lt;/dd&gt;\\n&lt;dd&gt;Simplified Engle-Granger Cointegration Model Description Usage Arguments Details Value Disclaimer Note Author&amp;#40;s&amp;#41; References See Also Examples page for egcm {egcm} egcm {egcm} R Documentation Perform&lt;/dd&gt;\\n&lt;dd&gt;&lt;a href=\"http://finzi.psych.upenn.edu/R/library/egcm/html/egcm.html\"&gt;http://finzi.psych.upenn.edu/R/library/egcm/html/egcm.html&lt;/a&gt; (19,950 bytes)&lt;br&gt;&lt;br&gt;&lt;/dd&gt;\\n\\n&lt;dt&gt;20. &lt;strong&gt;&lt;a href=\"http://finzi.psych.upenn.edu/R/library/egcm/html/egcm.set.default.i1test.html\"&gt;R: Set and get defaults for Engle-Granger cointegration models&lt;/a&gt;&lt;/strong&gt; (score: 3)&lt;/dt&gt;\\n&lt;dd&gt;&lt;strong&gt;Author&lt;/strong&gt;: &lt;em&gt;unknown&lt;/em&gt;&lt;/dd&gt;\\n&lt;dd&gt;&lt;strong&gt;Date&lt;/strong&gt;: &lt;em&gt;Sat, 30 Sep 2017 06:58:50 -0500&lt;/em&gt;&lt;/dd&gt;\\n&lt;dd&gt;Set and get defaults for Engle-Granger cointegration models Description Usage Arguments Value Note Author&amp;#40;s&amp;#41; See Also Examples page for egcm.defaults {egcm} egcm.defaults {egcm} R Documentation Set&lt;/dd&gt;\\n&lt;dd&gt;&lt;a href=\"http://finzi.psych.upenn.edu/R/library/egcm/html/egcm.set.default.i1test.html\"&gt;http://finzi.psych.upenn.edu/R/library/egcm/html/egcm.set.default.i1test.html&lt;/a&gt; (5,129 bytes)&lt;br&gt;&lt;br&gt;&lt;/dd&gt;\\n\\n'"
      ],
      "text/plain": [
       "[1] \"\\n<dt>1. <strong><a href=\\\"http://finzi.psych.upenn.edu/R/library/exuber/html/radf.html\\\">R: Recursive Augmented <strong class=\\\"keyword\\\">Dickey-Fuller</strong> test</a></strong> (score: 30)</dt>\\n<dd><strong>Author</strong>: <em>unknown</em></dd>\\n<dd><strong>Date</strong>: <em>Fri, 19 Oct 2018 11:14:14 -0500</em></dd>\\n<dd>Recursive Augmented <strong class=\\\"keyword\\\">Dickey-Fuller</strong> test Description Usage Arguments Value References Examples page for radf {exuber} radf {exuber} R Documentation radf returns the t-statistics from a recursive Augme</dd>\\n<dd><a href=\\\"http://finzi.psych.upenn.edu/R/library/exuber/html/radf.html\\\">http://finzi.psych.upenn.edu/R/library/exuber/html/radf.html</a> (2,677 bytes)<br><br></dd>\\n\\n<dt>2. <strong><a href=\\\"http://finzi.psych.upenn.edu/R/library/aTSA/html/adf.test.html\\\">R: Augmented <strong class=\\\"keyword\\\">Dickey-Fuller</strong> Test</a></strong> (score: 30)</dt>\\n<dd><strong>Author</strong>: <em>unknown</em></dd>\\n<dd><strong>Date</strong>: <em>Tue, 20 Dec 2016 13:27:33 -0500</em></dd>\\n<dd>Augmented <strong class=\\\"keyword\\\">Dickey-Fuller</strong> Test Description Usage Arguments Details Value Note Author&#40;s&#41; References See Also Examples page for adf.test {aTSA} adf.test {aTSA} R Documentation Performs the Augmented Dic</dd>\\n<dd><a href=\\\"http://finzi.psych.upenn.edu/R/library/aTSA/html/adf.test.html\\\">http://finzi.psych.upenn.edu/R/library/aTSA/html/adf.test.html</a> (4,334 bytes)<br><br></dd>\\n\\n<dt>3. <strong><a href=\\\"http://finzi.psych.upenn.edu/R/library/mleur/html/dftest.html\\\">R: <strong class=\\\"keyword\\\">Dickey-Fuller</strong> test</a></strong> (score: 26)</dt>\\n<dd><strong>Author</strong>: <em>unknown</em></dd>\\n<dd><strong>Date</strong>: <em>Tue, 20 Dec 2016 18:38:23 -0500</em></dd>\\n<dd><strong class=\\\"keyword\\\">Dickey-Fuller</strong> test Description Usage Arguments Details Value Author&#40;s&#41; See Also Examples page for dftest {mleur} dftest {mleur} R Documentation Computes the <strong class=\\\"keyword\\\">Dickey-Fuller</strong> test using the pivotal test</dd>\\n<dd><a href=\\\"http://finzi.psych.upenn.edu/R/library/mleur/html/dftest.html\\\">http://finzi.psych.upenn.edu/R/library/mleur/html/dftest.html</a> (1,644 bytes)<br><br></dd>\\n\\n<dt>4. <strong><a href=\\\"http://finzi.psych.upenn.edu/R/library/MultipleBubbles/html/ADF_FL.html\\\">R: Augmented <strong class=\\\"keyword\\\">Dickey-Fuller</strong> Statistic</a></strong> (score: 25)</dt>\\n<dd><strong>Author</strong>: <em>unknown</em></dd>\\n<dd><strong>Date</strong>: <em>Fri, 19 Oct 2018 06:33:43 -0500</em></dd>\\n<dd>Augmented <strong class=\\\"keyword\\\">Dickey-Fuller</strong> Statistic Description Usage Arguments References Examples page for ADF_FL {MultipleBubbles} ADF_FL {MultipleBubbles} R Documentation Calculate the Augmented <strong class=\\\"keyword\\\">Dickey-Fuller</strong> Sta</dd>\\n<dd><a href=\\\"http://finzi.psych.upenn.edu/R/library/MultipleBubbles/html/ADF_FL.html\\\">http://finzi.psych.upenn.edu/R/library/MultipleBubbles/html/ADF_FL.html</a> (1,608 bytes)<br><br></dd>\\n\\n<dt>5. <strong><a href=\\\"http://finzi.psych.upenn.edu/R/library/MultipleBubbles/html/ADF_IC.html\\\">R: Augmented <strong class=\\\"keyword\\\">Dickey-Fuller</strong> Statistic by AIC or BIC</a></strong> (score: 25)</dt>\\n<dd><strong>Author</strong>: <em>unknown</em></dd>\\n<dd><strong>Date</strong>: <em>Fri, 19 Oct 2018 06:33:43 -0500</em></dd>\\n<dd>Augmented <strong class=\\\"keyword\\\">Dickey-Fuller</strong> Statistic by AIC or BIC Description Usage Arguments References Examples page for ADF_IC {MultipleBubbles} ADF_IC {MultipleBubbles} R Documentation Calculate the Augmented Dic</dd>\\n<dd><a href=\\\"http://finzi.psych.upenn.edu/R/library/MultipleBubbles/html/ADF_IC.html\\\">http://finzi.psych.upenn.edu/R/library/MultipleBubbles/html/ADF_IC.html</a> (1,790 bytes)<br><br></dd>\\n\\n<dt>6. <strong><a href=\\\"http://finzi.psych.upenn.edu/R/library/CADFtest/html/00Index.html\\\">R: A Package to Perform Covariate Augmented <strong class=\\\"keyword\\\">Dickey-Fuller</strong> Unit Root Tests</a></strong> (score: 25)</dt>\\n<dd><strong>Author</strong>: <em>unknown</em></dd>\\n<dd><strong>Date</strong>: <em>Sat, 03 Jun 2017 07:50:59 -0500</em></dd>\\n<dd>A Package to Perform Covariate Augmented <strong class=\\\"keyword\\\">Dickey-Fuller</strong> Unit Root Tests [R logo] Documentation for package &amp;lsquo;CADFtest&amp;rsquo; version 0.3-3 Help Pages [Up] [Top] DESCRIPTION file. User guides, pa</dd>\\n<dd><a href=\\\"http://finzi.psych.upenn.edu/R/library/CADFtest/html/00Index.html\\\">http://finzi.psych.upenn.edu/R/library/CADFtest/html/00Index.html</a> (2,738 bytes)<br><br></dd>\\n\\n<dt>7. <strong><a href=\\\"http://finzi.psych.upenn.edu/R/library/PANICr/html/adfp.html\\\">R: Generalized Least Squares Modified <strong class=\\\"keyword\\\">Dickey-Fuller</strong> t test</a></strong> (score: 25)</dt>\\n<dd><strong>Author</strong>: <em>unknown</em></dd>\\n<dd><strong>Date</strong>: <em>Tue, 20 Dec 2016 17:45:50 -0500</em></dd>\\n<dd>Generalized Least Squares Modified <strong class=\\\"keyword\\\">Dickey-Fuller</strong> t test Description Usage Arguments Value page for adfp {PANICr} adfp {PANICr} R Documentation This function performs a modified <strong class=\\\"keyword\\\">Dickey-Fuller</strong> t test</dd>\\n<dd><a href=\\\"http://finzi.psych.upenn.edu/R/library/PANICr/html/adfp.html\\\">http://finzi.psych.upenn.edu/R/library/PANICr/html/adfp.html</a> (2,117 bytes)<br><br></dd>\\n\\n<dt>8. <strong><a href=\\\"http://finzi.psych.upenn.edu/R/library/MultipleBubbles/html/badf.html\\\">R: Backward Augmented <strong class=\\\"keyword\\\">Dickey-Fuller</strong> Sequence.</a></strong> (score: 24)</dt>\\n<dd><strong>Author</strong>: <em>unknown</em></dd>\\n<dd><strong>Date</strong>: <em>Fri, 19 Oct 2018 06:33:43 -0500</em></dd>\\n<dd>Backward Augmented <strong class=\\\"keyword\\\">Dickey-Fuller</strong> Sequence. Description Usage Arguments References Examples page for badf {MultipleBubbles} badf {MultipleBubbles} R Documentation In this program, we calculate critic</dd>\\n<dd><a href=\\\"http://finzi.psych.upenn.edu/R/library/MultipleBubbles/html/badf.html\\\">http://finzi.psych.upenn.edu/R/library/MultipleBubbles/html/badf.html</a> (1,923 bytes)<br><br></dd>\\n\\n<dt>9. <strong><a href=\\\"http://finzi.psych.upenn.edu/R/library/predtoolsTS/html/prep.check.adf.html\\\">R: Augmented <strong class=\\\"keyword\\\">Dickey-Fuller</strong> test</a></strong> (score: 24)</dt>\\n<dd><strong>Author</strong>: <em>unknown</em></dd>\\n<dd><strong>Date</strong>: <em>Sun, 10 Jun 2018 12:24:10 -0500</em></dd>\\n<dd>Augmented <strong class=\\\"keyword\\\">Dickey-Fuller</strong> test Description Usage Arguments Details Examples page for prep.check.adf {predtoolsTS} prep.check.adf {predtoolsTS} R Documentation Performs ADF test just as another tool to</dd>\\n<dd><a href=\\\"http://finzi.psych.upenn.edu/R/library/predtoolsTS/html/prep.check.adf.html\\\">http://finzi.psych.upenn.edu/R/library/predtoolsTS/html/prep.check.adf.html</a> (1,234 bytes)<br><br></dd>\\n\\n<dt>10. <strong><a href=\\\"http://finzi.psych.upenn.edu/R/library/fUnitRoots/html/DickeyFullerPValues.html\\\">R: <strong class=\\\"keyword\\\">Dickey-Fuller</strong> p Values</a></strong> (score: 24)</dt>\\n<dd><strong>Author</strong>: <em>unknown</em></dd>\\n<dd><strong>Date</strong>: <em>Mon, 04 Dec 2017 06:40:48 -0500</em></dd>\\n<dd><strong class=\\\"keyword\\\">Dickey-Fuller</strong> p Values Description Usage Arguments Value Note Author&#40;s&#41; References Examples page for DickeyFullerPValues {fUnitRoots} DickeyFullerPValues {fUnitRoots} R Documentation A collection an</dd>\\n<dd><a href=\\\"http://finzi.psych.upenn.edu/R/library/fUnitRoots/html/DickeyFullerPValues.html\\\">http://finzi.psych.upenn.edu/R/library/fUnitRoots/html/DickeyFullerPValues.html</a> (4,157 bytes)<br><br></dd>\\n\\n<dt>11. <strong><a href=\\\"http://finzi.psych.upenn.edu/R/library/tseries/html/adf.test.html\\\">R: Augmented <strong class=\\\"keyword\\\">Dickey-Fuller</strong> Test</a></strong> (score: 19)</dt>\\n<dd><strong>Author</strong>: <em>unknown</em></dd>\\n<dd><strong>Date</strong>: <em>Sun, 10 Jun 2018 11:41:02 -0500</em></dd>\\n<dd>Augmented Dickey&amp;ndash;Fuller Test Description Usage Arguments Details Value Author&#40;s&#41; References See Also Examples page for adf.test {tseries} adf.test {tseries} R Documentation Computes the Augmen</dd>\\n<dd><a href=\\\"http://finzi.psych.upenn.edu/R/library/tseries/html/adf.test.html\\\">http://finzi.psych.upenn.edu/R/library/tseries/html/adf.test.html</a> (3,734 bytes)<br><br></dd>\\n\\n<dt>12. <strong><a href=\\\"http://finzi.psych.upenn.edu/R/library/fUnitRoots/html/00fUnitroots-package.html\\\">R: Modelling Trends and Unit Roots</a></strong> (score: 8)</dt>\\n<dd><strong>Author</strong>: <em>unknown</em></dd>\\n<dd><strong>Date</strong>: <em>Mon, 04 Dec 2017 06:40:48 -0500</em></dd>\\n<dd>Modelling Trends and Unit Roots Description Details 1 Introduction 2 <strong class=\\\"keyword\\\">Dickey-Fuller</strong> p Values 3 Mc Kinnon p Values 4 Unit Root Time Series Tests 5 &quot;urca&quot;&quot; Unit Root Test Interface About Rmetrics page</dd>\\n<dd><a href=\\\"http://finzi.psych.upenn.edu/R/library/fUnitRoots/html/00fUnitroots-package.html\\\">http://finzi.psych.upenn.edu/R/library/fUnitRoots/html/00fUnitroots-package.html</a> (3,723 bytes)<br><br></dd>\\n\\n<dt>13. <strong><a href=\\\"http://finzi.psych.upenn.edu/R/library/analytics/html/weakly.stationary.html\\\">R: Testing for Weak Stationarity in a Time Series</a></strong> (score: 6)</dt>\\n<dd><strong>Author</strong>: <em>unknown</em></dd>\\n<dd><strong>Date</strong>: <em>Fri, 19 Oct 2018 07:37:00 -0500</em></dd>\\n<dd>Testing for Weak Stationarity in a Time Series Description Usage Arguments Details Value Author&#40;s&#41; Examples page for weakly.stationary {analytics} weakly.stationary {analytics} R Documentation Perfo</dd>\\n<dd><a href=\\\"http://finzi.psych.upenn.edu/R/library/analytics/html/weakly.stationary.html\\\">http://finzi.psych.upenn.edu/R/library/analytics/html/weakly.stationary.html</a> (5,749 bytes)<br><br></dd>\\n\\n<dt>14. <strong><a href=\\\"http://finzi.psych.upenn.edu/R/library/fUnitRoots/html/00Index.html\\\">R: Rmetrics - Modelling Trends and Unit Roots</a></strong> (score: 5)</dt>\\n<dd><strong>Author</strong>: <em>unknown</em></dd>\\n<dd><strong>Date</strong>: <em>Mon, 04 Dec 2017 06:40:47 -0500</em></dd>\\n<dd>Rmetrics - Modelling Trends and Unit Roots [R logo] Documentation for package &amp;lsquo;fUnitRoots&amp;rsquo; version 3042.79 Help Pages [Up] [Top] DESCRIPTION file. fUnitRoots-package Modelling Trends and</dd>\\n<dd><a href=\\\"http://finzi.psych.upenn.edu/R/library/fUnitRoots/html/00Index.html\\\">http://finzi.psych.upenn.edu/R/library/fUnitRoots/html/00Index.html</a> (3,464 bytes)<br><br></dd>\\n\\n<dt>15. <strong><a href=\\\"http://finzi.psych.upenn.edu/R/library/MultipleBubbles/html/00Index.html\\\">R: Test and Detection of Explosive Behaviors for Time Series</a></strong> (score: 4)</dt>\\n<dd><strong>Author</strong>: <em>unknown</em></dd>\\n<dd><strong>Date</strong>: <em>Fri, 19 Oct 2018 06:33:43 -0500</em></dd>\\n<dd>Test and Detection of Explosive Behaviors for Time Series [R logo] Documentation for package &amp;lsquo;MultipleBubbles&amp;rsquo; version 0.2.0 Help Pages [Up] [Top] DESCRIPTION file. ADF_FL Augmented Dick</dd>\\n<dd><a href=\\\"http://finzi.psych.upenn.edu/R/library/MultipleBubbles/html/00Index.html\\\">http://finzi.psych.upenn.edu/R/library/MultipleBubbles/html/00Index.html</a> (2,089 bytes)<br><br></dd>\\n\\n<dt>16. <strong><a href=\\\"/usr/lib64/R/library/KarsTS/extdata/KarsTSUserGuide.pdf\\\">KarsTSUserGuide.pdf</a></strong> (score: 3)</dt>\\n<dd><strong>Author</strong>: <em>Marina</em></dd>\\n<dd><strong>Date</strong>: <em>Sun, 10 Jun 2018 12:21:37 -0500</em></dd>\\n<dd>KarsTS 2.1 An interface for microclimate time series Userâs guide The KarsTS package Author, Creator and Maintainer: Marina SÃ¡ez Andreu Thesis advisors: David Benavente GarcÃ­a and Soledad Cuezva</dd>\\n<dd><a href=\\\"/usr/lib64/R/library/KarsTS/extdata/KarsTSUserGuide.pdf\\\">/usr/lib64/R/library/KarsTS/extdata/KarsTSUserGuide.pdf</a> (1,224,764 bytes)<br><br></dd>\\n\\n<dt>17. <strong><a href=\\\"http://finzi.psych.upenn.edu/R/library/plm/html/purtest.html\\\">R: Unit root tests for panel data</a></strong> (score: 3)</dt>\\n<dd><strong>Author</strong>: <em>unknown</em></dd>\\n<dd><strong>Date</strong>: <em>Tue, 14 Nov 2017 10:50:53 -0500</em></dd>\\n<dd>Unit root tests for panel data Description Usage Arguments Details Value Author&#40;s&#41; References See Also Examples page for purtest {plm} purtest {plm} R Documentation purtest implements several testin</dd>\\n<dd><a href=\\\"http://finzi.psych.upenn.edu/R/library/plm/html/purtest.html\\\">http://finzi.psych.upenn.edu/R/library/plm/html/purtest.html</a> (8,612 bytes)<br><br></dd>\\n\\n<dt>18. <strong><a href=\\\"http://finzi.psych.upenn.edu/R/library/egcm/html/ur_power.html\\\">R: Power assessment for unit root tests</a></strong> (score: 3)</dt>\\n<dd><strong>Author</strong>: <em>unknown</em></dd>\\n<dd><strong>Date</strong>: <em>Sat, 30 Sep 2017 06:58:51 -0500</em></dd>\\n<dd>Power assessment for unit root tests Description Usage Arguments Details Value Author&#40;s&#41; References See Also Examples page for ur_power {egcm} ur_power {egcm} R Documentation A collection of functio</dd>\\n<dd><a href=\\\"http://finzi.psych.upenn.edu/R/library/egcm/html/ur_power.html\\\">http://finzi.psych.upenn.edu/R/library/egcm/html/ur_power.html</a> (7,924 bytes)<br><br></dd>\\n\\n<dt>19. <strong><a href=\\\"http://finzi.psych.upenn.edu/R/library/egcm/html/egcm.html\\\">R: Simplified Engle-Granger Cointegration Model</a></strong> (score: 3)</dt>\\n<dd><strong>Author</strong>: <em>unknown</em></dd>\\n<dd><strong>Date</strong>: <em>Sat, 30 Sep 2017 06:58:50 -0500</em></dd>\\n<dd>Simplified Engle-Granger Cointegration Model Description Usage Arguments Details Value Disclaimer Note Author&#40;s&#41; References See Also Examples page for egcm {egcm} egcm {egcm} R Documentation Perform</dd>\\n<dd><a href=\\\"http://finzi.psych.upenn.edu/R/library/egcm/html/egcm.html\\\">http://finzi.psych.upenn.edu/R/library/egcm/html/egcm.html</a> (19,950 bytes)<br><br></dd>\\n\\n<dt>20. <strong><a href=\\\"http://finzi.psych.upenn.edu/R/library/egcm/html/egcm.set.default.i1test.html\\\">R: Set and get defaults for Engle-Granger cointegration models</a></strong> (score: 3)</dt>\\n<dd><strong>Author</strong>: <em>unknown</em></dd>\\n<dd><strong>Date</strong>: <em>Sat, 30 Sep 2017 06:58:50 -0500</em></dd>\\n<dd>Set and get defaults for Engle-Granger cointegration models Description Usage Arguments Value Note Author&#40;s&#41; See Also Examples page for egcm.defaults {egcm} egcm.defaults {egcm} R Documentation Set</dd>\\n<dd><a href=\\\"http://finzi.psych.upenn.edu/R/library/egcm/html/egcm.set.default.i1test.html\\\">http://finzi.psych.upenn.edu/R/library/egcm/html/egcm.set.default.i1test.html</a> (5,129 bytes)<br><br></dd>\\n\\n\""
      ]
     },
     "metadata": {},
     "output_type": "display_data"
    }
   ],
   "source": [
    "mypattern = '<dl>(.*)</dl>'\n",
    "datalines = grep(mypattern,code[84:length(code)],value=TRUE)\n",
    "gg = gregexpr(mypattern,datalines)\n",
    "matches = mapply(getexpr,datalines,gg)\n",
    "result = gsub(mypattern,'\\\\1',matches)\n",
    "names(result) = NULL\n",
    "result\n"
   ]
  },
  {
   "cell_type": "code",
   "execution_count": 27,
   "metadata": {},
   "outputs": [
    {
     "name": "stdout",
     "output_type": "stream",
     "text": [
      "[1] \"exuber::radf(30)\"\n",
      "[1] \"aTSA::adf.test(30)\"\n",
      "[1] \"mleur::dftest(26)\"\n",
      "[1] \"MultipleBubbles::ADF_FL(25)\"\n",
      "[1] \"MultipleBubbles::ADF_IC(25)\"\n",
      "[1] \"CADFtest ( 25 )\"\n",
      "[1] \"PANICr::adfp(25)\"\n",
      "[1] \"MultipleBubbles::badf(24)\"\n",
      "[1] \"predtoolsTS::prep.check.adf(24)\"\n",
      "[1] \"fUnitRoots::DickeyFullerPValues(24)\"\n",
      "[1] \"tseries::adf.test(19)\"\n",
      "[1] \"fUnitRoots ( 8 )\"\n",
      "[1] \"analytics::weakly.stationary(6)\"\n",
      "[1] \"fUnitRoots ( 5 )\"\n",
      "[1] \"MultipleBubbles ( 4 )\"\n",
      "[1] \"plm::purtest(3)\"\n",
      "[1] \"egcm::ur_power(3)\"\n",
      "[1] \"egcm::egcm(3)\"\n",
      "[1] \"egcm::egcm.set.default.i1test(3)\"\n"
     ]
    },
    {
     "data": {
      "text/html": [
       "<ol class=list-inline>\n",
       "\t<li>'exuber'</li>\n",
       "\t<li>'aTSA'</li>\n",
       "\t<li>'mleur'</li>\n",
       "\t<li>'MultipleBubbles'</li>\n",
       "\t<li>'PANICr'</li>\n",
       "\t<li>'predtoolsTS'</li>\n",
       "\t<li>'fUnitRoots'</li>\n",
       "\t<li>'tseries'</li>\n",
       "\t<li>'analytics'</li>\n",
       "\t<li>'plm'</li>\n",
       "\t<li>'egcm'</li>\n",
       "</ol>\n"
      ],
      "text/latex": [
       "\\begin{enumerate*}\n",
       "\\item 'exuber'\n",
       "\\item 'aTSA'\n",
       "\\item 'mleur'\n",
       "\\item 'MultipleBubbles'\n",
       "\\item 'PANICr'\n",
       "\\item 'predtoolsTS'\n",
       "\\item 'fUnitRoots'\n",
       "\\item 'tseries'\n",
       "\\item 'analytics'\n",
       "\\item 'plm'\n",
       "\\item 'egcm'\n",
       "\\end{enumerate*}\n"
      ],
      "text/markdown": [
       "1. 'exuber'\n",
       "2. 'aTSA'\n",
       "3. 'mleur'\n",
       "4. 'MultipleBubbles'\n",
       "5. 'PANICr'\n",
       "6. 'predtoolsTS'\n",
       "7. 'fUnitRoots'\n",
       "8. 'tseries'\n",
       "9. 'analytics'\n",
       "10. 'plm'\n",
       "11. 'egcm'\n",
       "\n",
       "\n"
      ],
      "text/plain": [
       " [1] \"exuber\"          \"aTSA\"            \"mleur\"           \"MultipleBubbles\"\n",
       " [5] \"PANICr\"          \"predtoolsTS\"     \"fUnitRoots\"      \"tseries\"        \n",
       " [9] \"analytics\"       \"plm\"             \"egcm\"           "
      ]
     },
     "metadata": {},
     "output_type": "display_data"
    },
    {
     "data": {
      "text/html": [
       "<dl>\n",
       "\t<dt>$`exuber::radf`</dt>\n",
       "\t\t<dd>30</dd>\n",
       "\t<dt>$`aTSA::adf.test`</dt>\n",
       "\t\t<dd>30</dd>\n",
       "\t<dt>$`mleur::dftest`</dt>\n",
       "\t\t<dd>26</dd>\n",
       "\t<dt>$`MultipleBubbles::ADF_FL`</dt>\n",
       "\t\t<dd>25</dd>\n",
       "\t<dt>$`MultipleBubbles::ADF_IC`</dt>\n",
       "\t\t<dd>25</dd>\n",
       "\t<dt>$`PANICr::adfp`</dt>\n",
       "\t\t<dd>25</dd>\n",
       "\t<dt>$`MultipleBubbles::badf`</dt>\n",
       "\t\t<dd>24</dd>\n",
       "\t<dt>$`predtoolsTS::prep.check.adf`</dt>\n",
       "\t\t<dd>24</dd>\n",
       "\t<dt>$`fUnitRoots::DickeyFullerPValues`</dt>\n",
       "\t\t<dd>24</dd>\n",
       "\t<dt>$`tseries::adf.test`</dt>\n",
       "\t\t<dd>19</dd>\n",
       "\t<dt>$`analytics::weakly.stationary`</dt>\n",
       "\t\t<dd>6</dd>\n",
       "\t<dt>$`plm::purtest`</dt>\n",
       "\t\t<dd>3</dd>\n",
       "\t<dt>$`egcm::ur_power`</dt>\n",
       "\t\t<dd>3</dd>\n",
       "\t<dt>$`egcm::egcm`</dt>\n",
       "\t\t<dd>3</dd>\n",
       "\t<dt>$`egcm::egcm.set.default.i1test`</dt>\n",
       "\t\t<dd>3</dd>\n",
       "</dl>\n"
      ],
      "text/latex": [
       "\\begin{description}\n",
       "\\item[\\$`exuber::radf`] 30\n",
       "\\item[\\$`aTSA::adf.test`] 30\n",
       "\\item[\\$`mleur::dftest`] 26\n",
       "\\item[\\$`MultipleBubbles::ADF\\_FL`] 25\n",
       "\\item[\\$`MultipleBubbles::ADF\\_IC`] 25\n",
       "\\item[\\$`PANICr::adfp`] 25\n",
       "\\item[\\$`MultipleBubbles::badf`] 24\n",
       "\\item[\\$`predtoolsTS::prep.check.adf`] 24\n",
       "\\item[\\$`fUnitRoots::DickeyFullerPValues`] 24\n",
       "\\item[\\$`tseries::adf.test`] 19\n",
       "\\item[\\$`analytics::weakly.stationary`] 6\n",
       "\\item[\\$`plm::purtest`] 3\n",
       "\\item[\\$`egcm::ur\\_power`] 3\n",
       "\\item[\\$`egcm::egcm`] 3\n",
       "\\item[\\$`egcm::egcm.set.default.i1test`] 3\n",
       "\\end{description}\n"
      ],
      "text/markdown": [
       "$`exuber::radf`\n",
       ":   30\n",
       "$`aTSA::adf.test`\n",
       ":   30\n",
       "$`mleur::dftest`\n",
       ":   26\n",
       "$`MultipleBubbles::ADF_FL`\n",
       ":   25\n",
       "$`MultipleBubbles::ADF_IC`\n",
       ":   25\n",
       "$`PANICr::adfp`\n",
       ":   25\n",
       "$`MultipleBubbles::badf`\n",
       ":   24\n",
       "$`predtoolsTS::prep.check.adf`\n",
       ":   24\n",
       "$`fUnitRoots::DickeyFullerPValues`\n",
       ":   24\n",
       "$`tseries::adf.test`\n",
       ":   19\n",
       "$`analytics::weakly.stationary`\n",
       ":   6\n",
       "$`plm::purtest`\n",
       ":   3\n",
       "$`egcm::ur_power`\n",
       ":   3\n",
       "$`egcm::egcm`\n",
       ":   3\n",
       "$`egcm::egcm.set.default.i1test`\n",
       ":   3\n",
       "\n",
       "\n"
      ],
      "text/plain": [
       "$`exuber::radf`\n",
       "[1] 30\n",
       "\n",
       "$`aTSA::adf.test`\n",
       "[1] 30\n",
       "\n",
       "$`mleur::dftest`\n",
       "[1] 26\n",
       "\n",
       "$`MultipleBubbles::ADF_FL`\n",
       "[1] 25\n",
       "\n",
       "$`MultipleBubbles::ADF_IC`\n",
       "[1] 25\n",
       "\n",
       "$`PANICr::adfp`\n",
       "[1] 25\n",
       "\n",
       "$`MultipleBubbles::badf`\n",
       "[1] 24\n",
       "\n",
       "$`predtoolsTS::prep.check.adf`\n",
       "[1] 24\n",
       "\n",
       "$`fUnitRoots::DickeyFullerPValues`\n",
       "[1] 24\n",
       "\n",
       "$`tseries::adf.test`\n",
       "[1] 19\n",
       "\n",
       "$`analytics::weakly.stationary`\n",
       "[1] 6\n",
       "\n",
       "$`plm::purtest`\n",
       "[1] 3\n",
       "\n",
       "$`egcm::ur_power`\n",
       "[1] 3\n",
       "\n",
       "$`egcm::egcm`\n",
       "[1] 3\n",
       "\n",
       "$`egcm::egcm.set.default.i1test`\n",
       "[1] 3\n"
      ]
     },
     "metadata": {},
     "output_type": "display_data"
    }
   ],
   "source": [
    "#unlist(strsplit(result, split=\"\\n\"))\n",
    "resultLines= unlist(strsplit(result, split=\"\\n\"))\n",
    "#resultLines\n",
    "#print(length(resultLines))\n",
    "\n",
    "# returns string w/o leading or trailing whitespace\n",
    "trim <- function (x) gsub(\"^\\\\s+|\\\\s+$\", \"\", x)\n",
    "\n",
    "get_lib_func_score_x<-function(pre_pattern, post_char, sourc){\n",
    "    pos = regexpr(pattern, sourc) # Returns position of 1st match in a string\n",
    "    result = sourc[pos:pos+nchar(pattern)]\n",
    "    }\n",
    "\n",
    "get_lib_func_score<-function(pattern,sourc){\n",
    "datalar = grep(pattern, sourc,value=TRUE)\n",
    "gg = gregexpr(pattern,datalar)\n",
    "matches = mapply(getexpr,datalar,gg)\n",
    "result = gsub(pattern,'\\\\1',matches)\n",
    "names(result) = NULL\n",
    "result\n",
    "    }\n",
    "\n",
    "curr<-1\n",
    "#\"<dt>1. <strong>\"\n",
    "dt <- paste('<dt>',curr,'. <strong>', sep='')\n",
    "#print(dt)\n",
    "\n",
    "ipomoea_packs <- c()\n",
    "ipomoea_funcs <- c()\n",
    "ipomoea_scores <- c()\n",
    "\n",
    "for (line in resultLines){\n",
    "       #print(line)\n",
    "    t_line = trim(line)\n",
    "    if(startsWith(line, dt)){\n",
    "        ipomoea_lib <-get_lib_func_score(paste('<dt>',curr,'. <strong><a href=\"http://finzi.psych.upenn.edu/R/library/(.*)/html.*</dt>', sep=''), t_line)\n",
    "        ipomoea_func <- get_lib_func_score(paste('<dt>',curr,'. <strong><a href=\"http://finzi.psych.upenn.edu/R/library/',ipomoea_lib,'/html/(.*).html.*</dt>', sep=''), t_line)\n",
    "        ipomoea_score <- get_lib_func_score(\"<dt>[^(]*[(]score: (.*)[)]</dt>\", t_line)\n",
    "        \n",
    "        if(length(ipomoea_func) !=0 ){\n",
    "            \n",
    "            #ipomoea_packs <- c(ipomoea_packs, ipomoea_lib)\n",
    "            \n",
    "            if(startsWith(ipomoea_func, \"00\")){\n",
    "                print(paste(ipomoea_lib, \"(\", ipomoea_score, \")\"))\n",
    "            }\n",
    "            else{\n",
    "                \n",
    "                ipomoea_func_fullname<- paste(ipomoea_lib, \"::\", ipomoea_func, sep='')\n",
    "                print(paste(ipomoea_func_fullname, \"(\", ipomoea_score, \")\", sep=''))\n",
    "                \n",
    "                ipomoea_packs <- c(ipomoea_packs, ipomoea_lib)\n",
    "                ipomoea_funcs <- c(ipomoea_funcs, ipomoea_func_fullname)\n",
    "                ipomoea_scores <- c(ipomoea_scores, as.numeric(ipomoea_score))\n",
    "            }\n",
    "        }\n",
    "        \n",
    "        curr <- curr +1\n",
    "        dt <- paste('<dt>',curr,'. <strong>', sep='')\n",
    "    }\n",
    "    else{\n",
    "        #print (curr)\n",
    "    }\n",
    "}\n",
    "\n",
    "ipomoea_scores_dict <- vector(mode=\"list\", length=length(ipomoea_scores))\n",
    "names(ipomoea_scores_dict) <- ipomoea_funcs\n",
    "for(i in 1:length(ipomoea_scores)){\n",
    "    ipomoea_scores_dict[[i]] <- ipomoea_scores[i]\n",
    "}\n",
    "\n",
    "ipomoea_unique_packs <- unique(ipomoea_packs)\n",
    "ipomoea_unique_packs\n",
    "\n",
    "#ipomoea_funcs \n",
    "#ipomoea_scores\n",
    "ipomoea_scores_dict"
   ]
  },
  {
   "cell_type": "code",
   "execution_count": 28,
   "metadata": {},
   "outputs": [
    {
     "name": "stderr",
     "output_type": "stream",
     "text": [
      "also installing the dependencies 'dotCall64', 'spam', 'fields', 'strucchange', 'pcaPP', 'fastICA', 'mcmc', 'fracdiff', 'uroot', 'RcppArmadillo', 'KFAS', 'MuMIn', 'EMD', 'wavelets', 'vars', 'gss', 'complexplus', 'phonTools', 'expm', 'fit.models', 'rrcov', 'extraDistr', 'locfit', 'splus2R', 'ifultools', 'sapa', 'wmtsa', 'cubature', 'laeken', 'miscTools', 'doParallel', 'urca', 'stabledist', 'fGarch', 'MCMCpack', 'forecast', 'Metrics', 'TSPred', 'timeSeries', 'fBasics', 'quadprog', 'powerplus', 'robust', 'trend', 'TSA', 'fractal', 'np', 'VIM', 'bdsmatrix', 'maxLik', 'pracma'\n",
      "\n"
     ]
    },
    {
     "name": "stdout",
     "output_type": "stream",
     "text": [
      "package 'dotCall64' successfully unpacked and MD5 sums checked\n",
      "package 'spam' successfully unpacked and MD5 sums checked\n",
      "package 'fields' successfully unpacked and MD5 sums checked\n",
      "package 'strucchange' successfully unpacked and MD5 sums checked\n",
      "package 'pcaPP' successfully unpacked and MD5 sums checked\n",
      "package 'fastICA' successfully unpacked and MD5 sums checked\n",
      "package 'mcmc' successfully unpacked and MD5 sums checked\n",
      "package 'fracdiff' successfully unpacked and MD5 sums checked\n",
      "package 'uroot' successfully unpacked and MD5 sums checked\n",
      "package 'RcppArmadillo' successfully unpacked and MD5 sums checked\n",
      "package 'KFAS' successfully unpacked and MD5 sums checked\n",
      "package 'MuMIn' successfully unpacked and MD5 sums checked\n",
      "package 'EMD' successfully unpacked and MD5 sums checked\n",
      "package 'wavelets' successfully unpacked and MD5 sums checked\n",
      "package 'vars' successfully unpacked and MD5 sums checked\n",
      "package 'gss' successfully unpacked and MD5 sums checked\n",
      "package 'complexplus' successfully unpacked and MD5 sums checked\n",
      "package 'phonTools' successfully unpacked and MD5 sums checked\n",
      "package 'expm' successfully unpacked and MD5 sums checked\n",
      "package 'fit.models' successfully unpacked and MD5 sums checked\n",
      "package 'rrcov' successfully unpacked and MD5 sums checked\n",
      "package 'extraDistr' successfully unpacked and MD5 sums checked\n",
      "package 'locfit' successfully unpacked and MD5 sums checked\n",
      "package 'splus2R' successfully unpacked and MD5 sums checked\n",
      "package 'ifultools' successfully unpacked and MD5 sums checked\n",
      "package 'sapa' successfully unpacked and MD5 sums checked\n",
      "package 'wmtsa' successfully unpacked and MD5 sums checked\n",
      "package 'cubature' successfully unpacked and MD5 sums checked\n",
      "package 'laeken' successfully unpacked and MD5 sums checked\n",
      "package 'miscTools' successfully unpacked and MD5 sums checked\n",
      "package 'doParallel' successfully unpacked and MD5 sums checked\n",
      "package 'urca' successfully unpacked and MD5 sums checked\n",
      "package 'stabledist' successfully unpacked and MD5 sums checked\n",
      "package 'fGarch' successfully unpacked and MD5 sums checked\n",
      "package 'MCMCpack' successfully unpacked and MD5 sums checked\n",
      "package 'forecast' successfully unpacked and MD5 sums checked\n",
      "package 'Metrics' successfully unpacked and MD5 sums checked\n",
      "package 'TSPred' successfully unpacked and MD5 sums checked\n",
      "package 'timeSeries' successfully unpacked and MD5 sums checked\n",
      "package 'fBasics' successfully unpacked and MD5 sums checked\n",
      "package 'quadprog' successfully unpacked and MD5 sums checked\n",
      "package 'powerplus' successfully unpacked and MD5 sums checked\n",
      "package 'robust' successfully unpacked and MD5 sums checked\n",
      "package 'trend' successfully unpacked and MD5 sums checked\n",
      "package 'TSA' successfully unpacked and MD5 sums checked\n",
      "package 'fractal' successfully unpacked and MD5 sums checked\n",
      "package 'np' successfully unpacked and MD5 sums checked\n",
      "package 'VIM' successfully unpacked and MD5 sums checked\n",
      "package 'bdsmatrix' successfully unpacked and MD5 sums checked\n",
      "package 'maxLik' successfully unpacked and MD5 sums checked\n",
      "package 'pracma' successfully unpacked and MD5 sums checked\n",
      "package 'exuber' successfully unpacked and MD5 sums checked\n",
      "package 'mleur' successfully unpacked and MD5 sums checked\n",
      "package 'MultipleBubbles' successfully unpacked and MD5 sums checked\n",
      "package 'PANICr' successfully unpacked and MD5 sums checked\n",
      "package 'predtoolsTS' successfully unpacked and MD5 sums checked\n",
      "package 'fUnitRoots' successfully unpacked and MD5 sums checked\n",
      "package 'tseries' successfully unpacked and MD5 sums checked\n",
      "package 'analytics' successfully unpacked and MD5 sums checked\n",
      "package 'plm' successfully unpacked and MD5 sums checked\n",
      "package 'egcm' successfully unpacked and MD5 sums checked\n",
      "\n",
      "The downloaded binary packages are in\n",
      "\tC:\\Users\\mans\\AppData\\Local\\Temp\\Rtmp0Eq09O\\downloaded_packages\n"
     ]
    }
   ],
   "source": [
    "list.of.packages <- ipomoea_unique_packs\n",
    "new.packages <- list.of.packages[!(list.of.packages %in% installed.packages()[,\"Package\"])]\n",
    "if(length(new.packages)>0) install.packages(new.packages, repos = \"http://cran.us.r-project.org\")\n",
    "\n",
    "#if (!require(\"pacman\")) install.packages(\"pacman\")\n",
    "#pacman::p_load(package1, package2, package_n)"
   ]
  },
  {
   "cell_type": "code",
   "execution_count": 37,
   "metadata": {},
   "outputs": [
    {
     "data": {
      "image/png": "[encoded data removed]",
      "text/plain": [
       "Plot with title \"RSiteSearch Results with Scores\""
      ]
     },
     "metadata": {},
     "output_type": "display_data"
    }
   ],
   "source": [
    "#X = jitter(1:length(ipomoea_funcs))\n",
    "X <- 1:length(ipomoea_funcs)\n",
    "plot( X, ipomoea_scores, \n",
    "     main= \"RSiteSearch Results with Scores\",\n",
    "     xlab= \"Result ID\",\n",
    "     ylab= \"Score\",\n",
    "     col= \"blue\", pch = 19, cex = 1, lty = \"solid\", lwd = 2)\n",
    "\n",
    "#Now if you want to move your labels down, left, up or right you can add \n",
    "# argument pos= with values, respectively, 1, 2, 3 or 4. For instance, to place your labels up:\n",
    "#text(1:length(ipomoea_funcs), ipomoea_scores, labels=ipomoea_funcs, cex= 0.7)\n",
    "text(X, ipomoea_scores, labels=ipomoea_funcs, cex= 0.7, pos=3)"
   ]
  },
  {
   "cell_type": "code",
   "execution_count": 52,
   "metadata": {},
   "outputs": [
    {
     "data": {
      "text/html": [
       "<ol class=list-inline>\n",
       "\t<li>0</li>\n",
       "\t<li>0</li>\n",
       "\t<li>4</li>\n",
       "\t<li>5</li>\n",
       "\t<li>5</li>\n",
       "\t<li>5</li>\n",
       "\t<li>6</li>\n",
       "\t<li>6</li>\n",
       "\t<li>6</li>\n",
       "\t<li>11</li>\n",
       "\t<li>24</li>\n",
       "\t<li>27</li>\n",
       "\t<li>27</li>\n",
       "\t<li>27</li>\n",
       "\t<li>27</li>\n",
       "</ol>\n"
      ],
      "text/latex": [
       "\\begin{enumerate*}\n",
       "\\item 0\n",
       "\\item 0\n",
       "\\item 4\n",
       "\\item 5\n",
       "\\item 5\n",
       "\\item 5\n",
       "\\item 6\n",
       "\\item 6\n",
       "\\item 6\n",
       "\\item 11\n",
       "\\item 24\n",
       "\\item 27\n",
       "\\item 27\n",
       "\\item 27\n",
       "\\item 27\n",
       "\\end{enumerate*}\n"
      ],
      "text/markdown": [
       "1. 0\n",
       "2. 0\n",
       "3. 4\n",
       "4. 5\n",
       "5. 5\n",
       "6. 5\n",
       "7. 6\n",
       "8. 6\n",
       "9. 6\n",
       "10. 11\n",
       "11. 24\n",
       "12. 27\n",
       "13. 27\n",
       "14. 27\n",
       "15. 27\n",
       "\n",
       "\n"
      ],
      "text/plain": [
       " [1]  0  0  4  5  5  5  6  6  6 11 24 27 27 27 27"
      ]
     },
     "metadata": {},
     "output_type": "display_data"
    },
    {
     "data": {
      "image/png": "[encoded data removed]",
      "text/plain": [
       "Plot with title \"Parameter space\""
      ]
     },
     "metadata": {},
     "output_type": "display_data"
    }
   ],
   "source": [
    "library(mco)\n",
    "\n",
    "is.wholenumber <-\n",
    "    function(x, tol = .Machine$double.eps^0.5)  abs(x - round(x)) < tol\n",
    "#is.wholenumber(1)\n",
    "\n",
    "max_score <- max(ipomoea_scores)\n",
    "min_score <- min(ipomoea_scores)\n",
    "Y <- max_score - ipomoea_scores\n",
    "Y\n",
    "n <- as.double(length(ipomoea_scores))\n",
    "m <- as.double(max(Y))\n",
    "\n",
    "theta <- 5\n",
    "\n",
    "## Example using constraints:\n",
    "## minimize     f(x) = (x[1], x[2])\n",
    "## subject to   g(x) = (sum(x) - theta) >= 0\n",
    "f <- function(x) { if(is.wholenumber(x[1])) {x} else {c(as.double(floor(x[1])+1), x[2])} }\n",
    "g <- function(x) { sum(x) - theta }\n",
    "\n",
    "res <- nsga2(f, 2, 2, generations=100,\n",
    "             lower.bounds=c(1, 0), upper.bounds=c(n, m),\n",
    "             constraints=g, cdim=1)\n",
    "opar <-par(mfrow=c(1,2))\n",
    "plot(res, xlab=\"y1\", ylab=\"y2\", main=\"Objective space\")\n",
    "plot(res$par, xlab=\"x1\", ylab=\"x2\", main=\"Parameter space\")\n",
    "par(opar)"
   ]
  },
  {
   "cell_type": "code",
   "execution_count": 53,
   "metadata": {},
   "outputs": [
    {
     "data": {
      "image/png": "[encoded data removed]",
      "text/plain": [
       "Plot with title \"Parameter space\""
      ]
     },
     "metadata": {},
     "output_type": "display_data"
    }
   ],
   "source": [
    "theta <- 7\n",
    "res <- nsga2(f, 2, 2, generations=100,\n",
    "             lower.bounds=c(1, 0), upper.bounds=c(n, m),\n",
    "             constraints=g, cdim=1)\n",
    "opar <-par(mfrow=c(1,2))\n",
    "plot(res, xlab=\"y1\", ylab=\"y2\", main=\"Objective space\")\n",
    "plot(res$par, xlab=\"x1\", ylab=\"x2\", main=\"Parameter space\")\n",
    "par(opar)"
   ]
  },
  {
   "cell_type": "markdown",
   "metadata": {},
   "source": [
    "# future work"
   ]
  },
  {
   "cell_type": "code",
   "execution_count": 30,
   "metadata": {},
   "outputs": [
    {
     "data": {
      "image/png": "[encoded data removed]",
      "text/plain": [
       "plot without title"
      ]
     },
     "metadata": {},
     "output_type": "display_data"
    }
   ],
   "source": [
    "\n",
    "## VNT problem:\n",
    "vnt <- function(x) {  \n",
    "    y <- numeric(3)\n",
    "    xn <- crossprod(x, x)\n",
    "    y[1] <- xn/2 + sin(xn); \n",
    "    y[2] <- (crossprod(c(3, -2), x) + 4)^2/8 + (crossprod(c(1, -1), x) + 1)^2/27 + 15\n",
    "    y[3] <- 1/(xn + 1) - 1.1*exp(-xn)\n",
    "    #names(y) <- c('i', 'p', 'o')\n",
    "    \n",
    "    return (y)\n",
    "}\n",
    "\n",
    "r2 <- nsga2(vnt, 2, 3,\n",
    "           generations=150, popsize=100,\n",
    "           lower.bounds=rep(-3, 2),\n",
    "           upper.bounds=rep(3, 2))\n",
    "plot(r2)"
   ]
  },
  {
   "cell_type": "code",
   "execution_count": null,
   "metadata": {},
   "outputs": [],
   "source": []
  }
 ],
 "metadata": {
  "kernelspec": {
   "display_name": "R",
   "language": "R",
   "name": "ir"
  },
  "language_info": {
   "codemirror_mode": "r",
   "file_extension": ".r",
   "mimetype": "text/x-r-source",
   "name": "R",
   "pygments_lexer": "r",
   "version": "3.4.3"
  }
 },
 "nbformat": 4,
 "nbformat_minor": 2
}
